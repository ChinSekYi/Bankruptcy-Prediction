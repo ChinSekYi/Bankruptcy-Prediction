{
  "nbformat": 4,
  "nbformat_minor": 0,
  "metadata": {
    "colab": {
      "provenance": [],
      "authorship_tag": "ABX9TyMi1ALcH9hQsBP1EJpBP07E",
      "include_colab_link": true
    },
    "kernelspec": {
      "name": "python3",
      "display_name": "Python 3"
    },
    "language_info": {
      "name": "python"
    }
  },
  "cells": [
    {
      "cell_type": "markdown",
      "metadata": {
        "id": "view-in-github",
        "colab_type": "text"
      },
      "source": [
        "<a href=\"https://colab.research.google.com/github/ChinSekYi/Bankruptcy-Prediction/blob/main/statements_file.ipynb\" target=\"_parent\"><img src=\"https://colab.research.google.com/assets/colab-badge.svg\" alt=\"Open In Colab\"/></a>"
      ]
    },
    {
      "cell_type": "markdown",
      "source": [
        "## Learning Statements"
      ],
      "metadata": {
        "id": "etKGodw3RhoD"
      }
    },
    {
      "cell_type": "code",
      "source": [],
      "metadata": {
        "id": "OoMQJWruRn5q"
      },
      "execution_count": null,
      "outputs": []
    },
    {
      "cell_type": "markdown",
      "source": [
        "## Variables"
      ],
      "metadata": {
        "id": "xh1jRYLqR4ST"
      }
    },
    {
      "cell_type": "markdown",
      "source": [
        "## Data Structures"
      ],
      "metadata": {
        "id": "jaunrcuESY98"
      }
    },
    {
      "cell_type": "code",
      "source": [],
      "metadata": {
        "id": "GU6vptcGR7hz"
      },
      "execution_count": null,
      "outputs": []
    }
  ]
}