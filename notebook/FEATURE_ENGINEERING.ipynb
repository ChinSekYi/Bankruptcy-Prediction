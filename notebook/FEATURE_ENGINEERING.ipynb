{
 "cells": [
  {
   "cell_type": "markdown",
   "metadata": {},
   "source": [
    "# Feature Engineering\n",
    "\n",
    "Feature Engineering involves **creating new features** or **transforming existing features** to improve model performance.   \n",
    "It involves transforming raw data into **meaningful representations** that make patterns easier for algorithms to detect.   \n",
    " \n",
    "It focuses on:\n",
    "\n",
    "- Creating new features from raw data.\n",
    "- Transforming features to capture patterns better (e.g., scaling, encoding, creating interaction terms, or extracting time-based features).\n",
    "- Adding domain knowledge to enhance the input data's relevance for the model.\n",
    "\n",
    "Feature engineering is a creative and manual process that helps extract more useful information from the data."
   ]
  }
 ],
 "metadata": {
  "language_info": {
   "name": "python"
  }
 },
 "nbformat": 4,
 "nbformat_minor": 2
}
