{
 "cells": [
  {
   "cell_type": "code",
   "execution_count": 5,
   "metadata": {},
   "outputs": [],
   "source": [
    "import matplotlib.pyplot as plt\n",
    "import numpy as np\n",
    "import sys, os\n",
    "import pandas as pd\n",
    "import seaborn as sns\n",
    "from scipy.io import arff\n",
    "import data_processing as dp\n",
    "from sklearn.linear_model import LogisticRegression\n",
    "import warnings\n",
    "from sklearn.metrics import (\n",
    "    accuracy_score,\n",
    "    precision_score,\n",
    "    recall_score,\n",
    "    f1_score,\n",
    "    classification_report,\n",
    "    confusion_matrix,\n",
    ")\n",
    "\n",
    "warnings.filterwarnings(\"ignore\")\n",
    "\n",
    "data = arff.loadarff(\"../data/3year.arff\")\n",
    "df = pd.DataFrame(data[0])\n",
    "df_origin = df.copy()"
   ]
  },
  {
   "cell_type": "code",
   "execution_count": 6,
   "metadata": {},
   "outputs": [],
   "source": [
    "def logistic_regression_model(*args):\n",
    "    X_train = args[0]\n",
    "    X_test = args[1]\n",
    "    y_train = args[2]\n",
    "    y_test = args[3]\n",
    "\n",
    "    # Reset indices to ensure alignment\n",
    "    X_train.reset_index(drop=True, inplace=True)\n",
    "    y_train.reset_index(drop=True, inplace=True)\n",
    "\n",
    "    logistic_model = LogisticRegression()\n",
    "\n",
    "    logistic_model.fit(X_train, y_train)\n",
    "\n",
    "    train_predictions = logistic_model.predict(X_train)\n",
    "    test_predictions = logistic_model.predict(X_test)\n",
    "\n",
    "    train_accuracy = accuracy_score(y_train, train_predictions)\n",
    "    test_accuracy = accuracy_score(y_test, test_predictions)\n",
    "    precision_score_ = precision_score(y_test, test_predictions)\n",
    "    recall_score_ = recall_score(y_test, test_predictions)\n",
    "    f1_score_ = f1_score(y_test, test_predictions)\n",
    "\n",
    "    print(classification_report(y_test, test_predictions))\n",
    "    print(confusion_matrix(y_test, test_predictions))\n",
    "    print(\"test predictions: \", test_predictions, len(test_predictions))\n",
    "    print(f\"\\nprecision_score: {precision_score_}\")\n",
    "    print(f\"recall_score: {recall_score_}\")\n",
    "    print(f\"train_accuracy: {train_accuracy}\")\n",
    "    print(f\"test_accuracy: {test_accuracy}\")\n",
    "    print(f\"f1score: {f1_score_}\")\n",
    "\n",
    "    return train_accuracy, test_accuracy"
   ]
  },
  {
   "cell_type": "code",
   "execution_count": 7,
   "metadata": {},
   "outputs": [
    {
     "name": "stdout",
     "output_type": "stream",
     "text": [
      "X_train.shape: (13978, 30)\n",
      "              precision    recall  f1-score   support\n",
      "\n",
      "           0       0.96      0.56      0.71      3017\n",
      "           1       0.05      0.52      0.09       134\n",
      "\n",
      "    accuracy                           0.56      3151\n",
      "   macro avg       0.51      0.54      0.40      3151\n",
      "weighted avg       0.92      0.56      0.69      3151\n",
      "\n",
      "[[1702 1315]\n",
      " [  64   70]]\n",
      "test predictions:  [1 0 0 ... 1 0 0] 3151\n",
      "\n",
      "precision_score: 0.05054151624548736\n",
      "recall_score: 0.5223880597014925\n",
      "train_accuracy: 0.5420661038775219\n",
      "test_accuracy: 0.5623611551888289\n",
      "f1score: 0.09216589861751152\n"
     ]
    },
    {
     "data": {
      "text/plain": [
       "(0.5420661038775219, 0.5623611551888289)"
      ]
     },
     "execution_count": 7,
     "metadata": {},
     "output_type": "execute_result"
    }
   ],
   "source": [
    "train_test_dataset = dp.pre_process(df)  # with SMOTE\n",
    "print(f\"X_train.shape: {train_test_dataset[0].shape}\")\n",
    "logistic_regression_model(*train_test_dataset)"
   ]
  },
  {
   "cell_type": "code",
   "execution_count": 8,
   "metadata": {},
   "outputs": [
    {
     "ename": "NameError",
     "evalue": "name 'blockPrint' is not defined",
     "output_type": "error",
     "traceback": [
      "\u001b[0;31m---------------------------------------------------------------------------\u001b[0m",
      "\u001b[0;31mNameError\u001b[0m                                 Traceback (most recent call last)",
      "Cell \u001b[0;32mIn[8], line 1\u001b[0m\n\u001b[0;32m----> 1\u001b[0m blockPrint()\n\u001b[1;32m      2\u001b[0m best_train_test_dataset \u001b[38;5;241m=\u001b[39m dp\u001b[38;5;241m.\u001b[39mfind_best_k_features_from_ANOVA(\n\u001b[1;32m      3\u001b[0m     logistic_regression_model, \u001b[38;5;241m*\u001b[39mtrain_test_dataset\n\u001b[1;32m      4\u001b[0m )\n\u001b[1;32m      5\u001b[0m enablePrint()\n",
      "\u001b[0;31mNameError\u001b[0m: name 'blockPrint' is not defined"
     ]
    }
   ],
   "source": [
    "best_train_test_dataset = dp.find_best_k_features_from_ANOVA(\n",
    "    logistic_regression_model, *train_test_dataset\n",
    ")\n",
    "\n",
    "print(\"model metrics after ANOVA\")\n",
    "logistic_regression_model(*best_train_test_dataset)"
   ]
  }
 ],
 "metadata": {
  "kernelspec": {
   "display_name": "Python 3 (ipykernel)",
   "language": "python",
   "name": "python3"
  },
  "language_info": {
   "codemirror_mode": {
    "name": "ipython",
    "version": 3
   },
   "file_extension": ".py",
   "mimetype": "text/x-python",
   "name": "python",
   "nbconvert_exporter": "python",
   "pygments_lexer": "ipython3",
   "version": "3.11.9"
  }
 },
 "nbformat": 4,
 "nbformat_minor": 4
}
