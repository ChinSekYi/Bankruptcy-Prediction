{
 "cells": [
  {
   "cell_type": "code",
   "execution_count": 5,
   "metadata": {},
   "outputs": [],
   "source": [
    "import numpy as np\n",
    "import sklearn\n",
    "import pandas as pd\n",
    "import matplotlib.pyplot as plt\n",
    "import seaborn as sns\n",
    "from scipy.io import arff\n",
    "import data_processing as dp\n",
    "\n",
    "from sklearn.tree import DecisionTreeClassifier\n",
    "from sklearn.ensemble import RandomForestClassifier\n",
    "from sklearn.model_selection import train_test_split\n",
    "from sklearn.metrics import accuracy_score, f1_score, recall_score, confusion_matrix"
   ]
  },
  {
   "cell_type": "code",
   "execution_count": 12,
   "metadata": {},
   "outputs": [],
   "source": [
    "data = arff.loadarff(\"../data/3year.arff\")\n",
    "df = pd.DataFrame(data[0])\n",
    "X, y = dp.pre_process(df)"
   ]
  },
  {
   "cell_type": "code",
   "execution_count": 8,
   "metadata": {},
   "outputs": [],
   "source": [
    "X_train, X_test, y_train, y_test = dp.get_train_test(df)"
   ]
  },
  {
   "cell_type": "code",
   "execution_count": 13,
   "metadata": {},
   "outputs": [
    {
     "name": "stdout",
     "output_type": "stream",
     "text": [
      "Accuracy: 1.0\n",
      "F1 Score: 1.0\n",
      "Recall Score: 1.0\n",
      "Confusion Matrix:\n",
      " [[2003    0]\n",
      " [   0   98]]\n"
     ]
    }
   ],
   "source": [
    "dt = DecisionTreeClassifier()\n",
    "dt.fit(X_train, y_train)\n",
    "\n",
    "y_pred = dt.predict(X_test)\n",
    "\n",
    "accuracy = accuracy_score(y_test, y_pred)\n",
    "f1 = f1_score(y_test, y_pred)\n",
    "recall = recall_score(y_test, y_pred)\n",
    "conf_matrix = confusion_matrix(y_test, y_pred)\n",
    "\n",
    "# Print evaluation metrics\n",
    "print(\"Accuracy:\", accuracy)\n",
    "print(\"F1 Score:\", f1)\n",
    "print(\"Recall Score:\", recall)\n",
    "print(\"Confusion Matrix:\\n\", conf_matrix)"
   ]
  },
  {
   "cell_type": "code",
   "execution_count": 13,
   "metadata": {},
   "outputs": [
    {
     "name": "stdout",
     "output_type": "stream",
     "text": [
      "Accuracy scores for each fold: [1. 1. 1. 1. 1.]\n",
      "Mean accuracy: 1.0\n",
      "F1 Score: 1.0\n",
      "Recall Score: 1.0\n",
      "Accuracy: 1.0\n"
     ]
    }
   ],
   "source": [
    "from sklearn.model_selection import cross_val_score, cross_val_predict\n",
    "from sklearn.metrics import accuracy_score, f1_score, recall_score\n",
    "\n",
    "# Create a Decision Tree classifier instance\n",
    "dt = DecisionTreeClassifier()\n",
    "\n",
    "# Perform k-fold cross-validation\n",
    "# Replace `X` and `y` with your feature matrix and target vector\n",
    "# `cv` parameter specifies the number of folds\n",
    "# `scoring` parameter specifies the evaluation metric (e.g., accuracy)\n",
    "scores = cross_val_score(dt, X, y, cv=5, scoring=\"accuracy\")\n",
    "\n",
    "# Print the accuracy scores for each fold\n",
    "print(\"Accuracy scores for each fold:\", scores)\n",
    "\n",
    "# Calculate and print the mean accuracy across all folds\n",
    "mean_accuracy = scores.mean()\n",
    "print(\"Mean accuracy:\", mean_accuracy)\n",
    "\n",
    "# Perform predictions using cross-validation\n",
    "y_pred_cv = cross_val_predict(dt, X, y, cv=5)\n",
    "\n",
    "# Calculate F1 score, recall, and accuracy\n",
    "f1 = f1_score(y, y_pred_cv)\n",
    "recall = recall_score(y, y_pred_cv)\n",
    "accuracy = accuracy_score(y, y_pred_cv)\n",
    "\n",
    "print(\"F1 Score:\", f1)\n",
    "print(\"Recall Score:\", recall)\n",
    "print(\"Accuracy:\", accuracy)"
   ]
  },
  {
   "cell_type": "code",
   "execution_count": 9,
   "metadata": {},
   "outputs": [],
   "source": [
    "x_unp, y_unp = dp.df_null_removal(df)\n",
    "X_train_unp, X_test_unp, y_train_unp, y_test_unp = train_test_split(\n",
    "    x_unp, y_unp, test_size=0.2, random_state=42\n",
    ")"
   ]
  },
  {
   "cell_type": "code",
   "execution_count": 14,
   "metadata": {},
   "outputs": [
    {
     "name": "stdout",
     "output_type": "stream",
     "text": [
      "Accuracy:  1.0\n"
     ]
    }
   ],
   "source": [
    "dt.fit(X_train_unp, y_train_unp)\n",
    "y_pred_unp = dt.predict(X_test_unp)\n",
    "\n",
    "accuracy_unp = sklearn.metrics.accuracy_score(y_test_unp, y_pred_unp)\n",
    "print(\"Accuracy: \", accuracy_unp)"
   ]
  }
 ],
 "metadata": {
  "kernelspec": {
   "display_name": "Python 3",
   "language": "python",
   "name": "python3"
  },
  "language_info": {
   "codemirror_mode": {
    "name": "ipython",
    "version": 3
   },
   "file_extension": ".py",
   "mimetype": "text/x-python",
   "name": "python",
   "nbconvert_exporter": "python",
   "pygments_lexer": "ipython3",
   "version": "3.11.8"
  }
 },
 "nbformat": 4,
 "nbformat_minor": 2
}
