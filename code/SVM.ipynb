{
 "cells": [
  {
   "cell_type": "code",
   "execution_count": 10,
   "metadata": {},
   "outputs": [],
   "source": [
    "import matplotlib.pyplot as plt\n",
    "import numpy as np\n",
    "import pandas as pd\n",
    "import seaborn as sns\n",
    "from sklearn.svm import SVC\n",
    "from scipy.io import arff\n",
    "import data_processing as dp\n",
    "from sklearn.linear_model import LogisticRegression\n",
    "import warnings\n",
    "from sklearn.metrics import accuracy_score, precision_score, recall_score, f1_score\n",
    "\n",
    "warnings.filterwarnings(\"ignore\")\n",
    "\n",
    "data = arff.loadarff(\"../data/3year.arff\")\n",
    "df = pd.DataFrame(data[0])\n",
    "df_origin = df.copy()"
   ]
  },
  {
   "cell_type": "code",
   "execution_count": 11,
   "metadata": {},
   "outputs": [],
   "source": [
    "def SVM_model(*args):\n",
    "    X_train = args[0]\n",
    "    X_test = args[1]\n",
    "    y_train = args[2]\n",
    "    y_test = args[3]\n",
    "\n",
    "    # Reset indices to ensure alignment\n",
    "    X_train.reset_index(drop=True, inplace=True)\n",
    "    y_train.reset_index(drop=True, inplace=True)\n",
    "\n",
    "    # Training the SVM model\n",
    "    svm_model = SVC(kernel='linear')  # You can choose different kernels based on your data\n",
    "    svm_model.fit(X_train, y_train)\n",
    "\n",
    "    # Predictions on the testing set\n",
    "    y_pred_train = svm_model.predict(X_train)\n",
    "    y_pred_test = svm_model.predict(X_test)\n",
    "\n",
    "    # Evaluating the model\n",
    "    train_accuracy = accuracy_score(y_train, y_pred_train)\n",
    "    test_accuracy = accuracy_score(y_test, y_pred_test)\n",
    "    precision_score_ = precision_score(y_test, y_pred_test)\n",
    "    recall_score_ = recall_score(y_test, y_pred_test)\n",
    "\n",
    "    print(f\"precision_score: {precision_score_}\")\n",
    "    print(f\"recall_score: {recall_score_}\")\n",
    "\n",
    "    return train_accuracy, test_accuracy"
   ]
  },
  {
   "cell_type": "code",
   "execution_count": 12,
   "metadata": {},
   "outputs": [
    {
     "name": "stdout",
     "output_type": "stream",
     "text": [
      "X_train.shape: (13978, 30)\n"
     ]
    }
   ],
   "source": [
    "train_test_dataset = dp.pre_process(df)  # with SMOTE\n",
    "print(f\"X_train.shape: {train_test_dataset[0].shape}\")"
   ]
  },
  {
   "cell_type": "markdown",
   "metadata": {},
   "source": [
    "To Do:\n",
    "- check linear separability"
   ]
  },
  {
   "cell_type": "code",
   "execution_count": 13,
   "metadata": {},
   "outputs": [
    {
     "name": "stdout",
     "output_type": "stream",
     "text": [
      "precision_score: 0.04708520179372197\n",
      "recall_score: 0.4701492537313433\n",
      "0.537201316354271\n",
      "0.5728340209457315\n"
     ]
    }
   ],
   "source": [
    "train_accuracy, test_accuracy = SVM_model(*train_test_dataset)\n",
    "print(train_accuracy)\n",
    "print(test_accuracy)\n",
    "\n",
    "#kernel = rbf , [train, test] = [0.5304764630133066, 0.5147572199301809]\n",
    "#kernel = linear, [train, test] = [0.537201316354271, 0.5728340209457315]"
   ]
  },
  {
   "cell_type": "code",
   "execution_count": 15,
   "metadata": {},
   "outputs": [
    {
     "name": "stdout",
     "output_type": "stream",
     "text": [
      "precision_score: 0.04259927797833935\n",
      "recall_score: 0.44029850746268656\n",
      "precision_score: 0.04404332129963899\n",
      "recall_score: 0.4552238805970149\n",
      "precision_score: 0.044543429844097995\n",
      "recall_score: 0.44776119402985076\n",
      "precision_score: 0.04491017964071856\n",
      "recall_score: 0.44776119402985076\n",
      "precision_score: 0.04432757325319309\n",
      "recall_score: 0.44029850746268656\n",
      "precision_score: 0.045722713864306784\n",
      "recall_score: 0.4626865671641791\n",
      "precision_score: 0.045925925925925926\n",
      "recall_score: 0.4626865671641791\n",
      "precision_score: 0.04595997034840623\n",
      "recall_score: 0.4626865671641791\n",
      "precision_score: 0.04758364312267658\n",
      "recall_score: 0.47761194029850745\n",
      "precision_score: 0.0475482912332838\n",
      "recall_score: 0.47761194029850745\n",
      "precision_score: 0.047725577926920205\n",
      "recall_score: 0.47761194029850745\n",
      "precision_score: 0.04776119402985075\n",
      "recall_score: 0.47761194029850745\n",
      "precision_score: 0.04776119402985075\n",
      "recall_score: 0.47761194029850745\n",
      "precision_score: 0.04776119402985075\n",
      "recall_score: 0.47761194029850745\n",
      "precision_score: 0.04776119402985075\n",
      "recall_score: 0.47761194029850745\n",
      "precision_score: 0.04776119402985075\n",
      "recall_score: 0.47761194029850745\n",
      "precision_score: 0.04776119402985075\n",
      "recall_score: 0.47761194029850745\n",
      "precision_score: 0.04776119402985075\n",
      "recall_score: 0.47761194029850745\n",
      "precision_score: 0.04705003734129948\n",
      "recall_score: 0.4701492537313433\n",
      "precision_score: 0.04708520179372197\n",
      "recall_score: 0.4701492537313433\n",
      "precision_score: 0.04705003734129948\n",
      "recall_score: 0.4701492537313433\n",
      "precision_score: 0.04701492537313433\n",
      "recall_score: 0.4701492537313433\n",
      "precision_score: 0.04712041884816754\n",
      "recall_score: 0.4701492537313433\n",
      "precision_score: 0.04712041884816754\n",
      "recall_score: 0.4701492537313433\n",
      "precision_score: 0.04715568862275449\n",
      "recall_score: 0.4701492537313433\n",
      "precision_score: 0.04708520179372197\n",
      "recall_score: 0.4701492537313433\n",
      "precision_score: 0.04708520179372197\n",
      "recall_score: 0.4701492537313433\n",
      "precision_score: 0.04708520179372197\n",
      "recall_score: 0.4701492537313433\n"
     ]
    }
   ],
   "source": [
    "best_train_test_dataset = dp.find_best_k_features_from_ANOVA(SVM_model, *train_test_dataset)\n",
    "print(len(best_train_test_dataset[0].columns))s"
   ]
  },
  {
   "cell_type": "markdown",
   "metadata": {},
   "source": []
  }
 ],
 "metadata": {
  "kernelspec": {
   "display_name": "Python 3",
   "language": "python",
   "name": "python3"
  },
  "language_info": {
   "codemirror_mode": {
    "name": "ipython",
    "version": 3
   },
   "file_extension": ".py",
   "mimetype": "text/x-python",
   "name": "python",
   "nbconvert_exporter": "python",
   "pygments_lexer": "ipython3",
   "version": "3.11.5"
  }
 },
 "nbformat": 4,
 "nbformat_minor": 2
}
