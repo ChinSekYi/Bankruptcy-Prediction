{
 "cells": [
  {
   "cell_type": "markdown",
   "metadata": {},
   "source": [
    "# Predicting Company Bankruptcy using Machine Learning\n",
    "By CS3244 Project Team 11  \n",
    "Cao Han  |  Chin Sek Yi  |  Lim Kai Sin  |  Luo Xinming  "
   ]
  },
  {
   "cell_type": "markdown",
   "metadata": {},
   "source": [
    "## Table of Contents\n",
    "* [Chapter 1: Project Overview](#chapter1)\n",
    "    * [1.1 Project Motivation](#section1_1)\n",
    "    * [1.2 Dataset Description](#section1_2)\n",
    "    * [1.3 Methodologies](#section1_3)\n",
    "* [Chapter 2: Data Preparation](#chapter2)\n",
    "    * [2.1 Data Collection](#section2_1)\n",
    "    * [2.2 Data Exploration (EDA)](#section2_2)\n",
    "    * [2.3 Data Pre-Processing](#section2_3)\n",
    "* [Chapter 3: Modelling](#chapter3)\n",
    "    * [3.1 Evaluation Metrics](#section3_1)\n",
    "    * [3.2 Machine Learning Models](#section3_2)\n",
    "    * [3.3 Modelling Evaluations](#section3_3)\n",
    "* [Chapter 4: Results](#chapter4)\n",
    "    * [4.1 ](#section4_1)\n",
    "    * [4.2 ](#section4_2)\n",
    "    * [4.3 ](#section4_3) "
   ]
  },
  {
   "cell_type": "markdown",
   "metadata": {},
   "source": [
    "## Chapter 1: Project Overview <a id=\"chapter1\"></a>"
   ]
  },
  {
   "cell_type": "markdown",
   "metadata": {},
   "source": [
    "In this chapter, we present our project motivation, give a description of the dataset and an overview of our project methodologies."
   ]
  },
  {
   "cell_type": "markdown",
   "metadata": {},
   "source": [
    "### 1.1 Project Motivation <a id=\"section1_1\"></a>\n",
    "In today's dynamic business landscape, exemplified by recent events such as the bankruptcy of Silicon Valley Bank, the ability to anticipate and mitigate financial risks is crucial for sustainable growth and stability. This project aims to develop a robust predictive model of company bankruptcy, leveraging advanced machine learning algorithms and financial data analysis techniques, so as to equip stakeholders with nuanced insights to confidently traverse the unpredictable landscape of financial risk."
   ]
  },
  {
   "cell_type": "markdown",
   "metadata": {},
   "source": [
    "### 1.2 Dataset Description <a class=\"anchor\" id=\"section1_2\"></a>\n",
    "The dataset used in this project is about bankruptcy prediction of Polish companies. The dataset contains financial rates from one year and corresponding class label that indicates bankruptcy status 3 years after that year. The data contains 10503 instances (financial statements), with 495 representing bankrupted companies and 10008 still operating at the end of the 3-year forecasting period.\n",
    "\n",
    "The data was collected from [Emerging Markets Information Service](http://www.securities.com), which is a database containing information on emerging markets around the world. The bankrupt companies were analyzed in the period 2000-2012, while the still operating companies were evaluated from 2007 to 2013.  \n",
    "\n",
    "Source: [UC Irvine Machine Learning Repository](https://archive.ics.uci.edu/dataset/365/polish+companies+bankruptcy+data)"
   ]
  },
  {
   "cell_type": "markdown",
   "metadata": {},
   "source": [
    "### 1.3 Methodologies <a class=\"anchor\" id=\"section1_3\"></a>\n",
    "This project is structured into five distinct steps:\n",
    "\n",
    "1. **Data Collection**: This initial phase involves setting up a web scraper to automate the acquisition and transformation of the desired dataset. The process is designed to systematically download and convert data, streamlining subsequent analysis.\n",
    "\n",
    "2. **Exploratory Data Analysis (EDA)**: In this step, various visualization tools such as histograms and heatmaps are employed to explore the data distribution and examine the relationships between features. This analysis helps identify patterns and insights that inform further data handling strategies.\n",
    "\n",
    "3. **Data Pre-processing**: During this stage, missing values are addressed through mean imputation, ensuring no data is unnecessarily discarded. Additionally, numerical values are standardized to neutralize disparities in scale among features, enhancing model accuracy. To mitigate the effects of multicollinearity, features that show high correlation with others are selectively removed. As the dataset is highly imbalanced, we used Synthetic Minority Over-sampling Technique (SMOTE) to generate instances of the minortity class for training. \n",
    "\n",
    "4. **Modeling**: Various well-established machine learning algorithms are utilized in this step, including Support Vector Machines (SVM), K-Nearest Neighbors (KNN), and Decision Trees, to develop predictive models for predicting company bankruptcy. Logistic regression serves as a baseline for comparison. Advanced techniques such as bagging and boosting are implemented to improve each model's robustness. Furthermore, the potential of neural networks is explored to assess their efficacy in enhancing predictive performance.\n",
    "\n",
    "5. **Evaluation and Comparison**: The final step involves a thorough evaluation and comparison of each model's performance. The outcomes are meticulously analyzed to identify the most effective model, which is then detailed in this section, highlighting the relative advantages and effectiveness of the approaches used.\n",
    "\n",
    "This structured approach ensures a comprehensive analysis and robust development of predictive models, aiming to deliver reliable and actionable insights."
   ]
  },
  {
   "cell_type": "markdown",
   "metadata": {},
   "source": [
    "## Chapter 2: Data Preparation <a class=\"anchor\" id=\"chapter2\"></a>"
   ]
  },
  {
   "cell_type": "markdown",
   "metadata": {},
   "source": [
    "### 2.1 Data Collection <a class=\"anchor\" id=\"section2_1\"></a>"
   ]
  },
  {
   "cell_type": "code",
   "execution_count": 1,
   "metadata": {},
   "outputs": [],
   "source": [
    "import requests\n",
    "import zipfile\n",
    "import os\n",
    "from scipy.io import arff\n",
    "import pandas as pd"
   ]
  },
  {
   "cell_type": "code",
   "execution_count": 2,
   "metadata": {},
   "outputs": [],
   "source": [
    "source_url = (\n",
    "    \"https://archive.ics.uci.edu/static/public/365/polish+companies+bankruptcy+data.zip\"\n",
    ")\n",
    "dest_url = \"../data/downloaded_file.zip\"\n",
    "\n",
    "\n",
    "def get_zip_file(source_url, dest_url):\n",
    "    response = requests.get(source_url)\n",
    "    with open(dest_url, \"wb\") as zipfile:\n",
    "        zipfile.write(response.content)\n",
    "\n",
    "\n",
    "def extract_arff_from_zip(zip_path, arff_filename, extraction_path=\".\"):\n",
    "    with zipfile.ZipFile(zip_path, \"r\") as zip_ref:\n",
    "        zip_ref.extract(arff_filename, path=extraction_path)\n",
    "        return os.path.join(extraction_path, arff_filename)\n",
    "\n",
    "\n",
    "def convert_arff_to_csv(arff_path, csv_path):\n",
    "    data, meta = arff.loadarff(arff_path)\n",
    "    df = pd.DataFrame(data)\n",
    "    for col in df.select_dtypes([object]):\n",
    "        if isinstance(df[col][0], bytes):\n",
    "            df[col] = df[col].apply(lambda x: x.decode(\"utf-8\"))\n",
    "    df.to_csv(csv_path, index=False)\n",
    "\n",
    "\n",
    "def save_file():\n",
    "    for i in range(1, 6):\n",
    "        arff_filename = f\"{i}year.arff\"\n",
    "        csv_path = f\"{i}year.csv\"\n",
    "        extracted_arff_path = extract_arff_from_zip(dest_url, arff_filename)\n",
    "        convert_arff_to_csv(extracted_arff_path, csv_path)\n",
    "\n",
    "\n",
    "# uncomment the two lines below to re-download raw data files\n",
    "\n",
    "# get_zip_file(source_url, dest_url)\n",
    "# save_file()"
   ]
  },
  {
   "cell_type": "code",
   "execution_count": 2,
   "metadata": {},
   "outputs": [],
   "source": [
    "# read raw data files into pandas dataframe for data exploration and engineering in the following sections\n",
    "df = pd.read_csv(\"../../data/3year.csv\")\n",
    "df_origin = df.copy()"
   ]
  },
  {
   "cell_type": "markdown",
   "metadata": {},
   "source": [
    "##### Dataset overview"
   ]
  },
  {
   "cell_type": "code",
   "execution_count": 4,
   "metadata": {},
   "outputs": [],
   "source": [
    "# uncomment the following lines to see an overview of the dataset\n",
    "# inspect the shape of the dataset\n",
    "# df.shape\n",
    "# inspect the class of columns\n",
    "# df.info()"
   ]
  },
  {
   "cell_type": "markdown",
   "metadata": {},
   "source": [
    "Our dataset consists of 10503 rows and 65 columns. The first 64 columns form the feature space, while the last column is the target column with the true labels, while 1 denotes bankruptcy status and 0 otherwise. The names of the feature columns are shown below."
   ]
  },
  {
   "cell_type": "markdown",
   "metadata": {},
   "source": [
    "- X1 net profit / total assets \n",
    "- X2 total liabilities / total assets \n",
    "- X3 working capital / total assets \n",
    "- X4 current assets / short-term liabilities \n",
    "- X5 [(cash + short-term securities + receivables - short-term liabilities) / (operating expenses - depreciation)] * 365 \n",
    "- X6 retained earnings / total assets \n",
    "- X7 EBIT / total assets \n",
    "- X8 book value of equity / total liabilities \n",
    "- X9 sales / total assets \n",
    "- X10 equity / total assets \n",
    "- X11 (gross profit + extraordinary items + financial expenses) / total assets \n",
    "- X12 gross profit / short-term liabilities \n",
    "- X13 (gross profit + depreciation) / sales \n",
    "- X14 (gross profit + interest) / total assets \n",
    "- X15 (total liabilities * 365) / (gross profit + depreciation) \n",
    "- X16 (gross profit + depreciation) / total liabilities \n",
    "- X17 total assets / total liabilities \n",
    "- X18 gross profit / total assets \n",
    "- X19 gross profit / sales \n",
    "- X20 (inventory * 365) / sales \n",
    "- X21 sales (n) / sales (n-1) \n",
    "- X22 profit on operating activities / total assets \n",
    "- X23 net profit / sales \n",
    "- X24 gross profit (in 3 years) / total assets \n",
    "- X25 (equity - share capital) / total assets \n",
    "- X26 (net profit + depreciation) / total liabilities \n",
    "- X27 profit on operating activities / financial expenses \n",
    "- X28 working capital / fixed assets \n",
    "- X29 logarithm of total assets \n",
    "- X30 (total liabilities - cash) / sales \n",
    "- X31 (gross profit + interest) / sales \n",
    "- X32 (current liabilities * 365) / cost of products sold \n",
    "- X33 operating expenses / short-term liabilities \n",
    "- X34 operating expenses / total liabilities \n",
    "- X35 profit on sales / total assets \n",
    "- X36 total sales / total assets \n",
    "- X37 (current assets - inventories) / long-term liabilities \n",
    "- X38 constant capital / total assets \n",
    "- X39 profit on sales / sales \n",
    "- X40 (current assets - inventory - receivables) / short-term liabilities\n",
    "- X41 total liabilities / ((profit on operating activities + depreciation) * (12/365)) \n",
    "- X42 profit on operating activities / sales \n",
    "- X43 rotation receivables + inventory turnover in days \n",
    "- X44 (receivables * 365) / sales \n",
    "- X45 net profit / inventory \n",
    "- X46 (current assets - inventory) / short-term liabilities \n",
    "- X47 (inventory * 365) / cost of products sold \n",
    "- X48 EBITDA (profit on operating activities - depreciation) / total assets \n",
    "- X49 EBITDA (profit on operating activities - depreciation) / sales \n",
    "- X50 current assets / total liabilities \n",
    "- X51 short-term liabilities / total assets \n",
    "- X52 (short-term liabilities * 365) / (cost of products sold) \n",
    "- X53 equity / fixed assets \n",
    "- X54 constant capital / fixed assets \n",
    "- X55 working capital \n",
    "- X56 (sales - cost of products sold) / sales \n",
    "- X57 (current assets - inventory - short-term liabilities) / (sales - gross profit - depreciation) \n",
    "- X58 total costs /total sales \n",
    "- X59 long-term liabilities / equity \n",
    "- X60 sales / inventory X61 sales / receivables \n",
    "- X62 (short-term liabilities *365) / sales \n",
    "- X63 sales / short-term liabilities \n",
    "- X64 sales / fixed assets\n",
    "- class (target column)"
   ]
  },
  {
   "cell_type": "markdown",
   "metadata": {},
   "source": [
    "The function below converts the target column to binary values for easier analysis."
   ]
  },
  {
   "cell_type": "code",
   "execution_count": 3,
   "metadata": {},
   "outputs": [],
   "source": [
    "def as_discrete(col):\n",
    "    n = len(col)\n",
    "    new_col = [0] * n\n",
    "    for i in range(n):\n",
    "        if col[i] == \"b'0'\":\n",
    "            new_col[i] = 0\n",
    "        else:\n",
    "            new_col[i] = 1\n",
    "    return pd.DataFrame(new_col)"
   ]
  },
  {
   "cell_type": "code",
   "execution_count": 4,
   "metadata": {},
   "outputs": [
    {
     "data": {
      "text/html": [
       "<div>\n",
       "<style scoped>\n",
       "    .dataframe tbody tr th:only-of-type {\n",
       "        vertical-align: middle;\n",
       "    }\n",
       "\n",
       "    .dataframe tbody tr th {\n",
       "        vertical-align: top;\n",
       "    }\n",
       "\n",
       "    .dataframe thead th {\n",
       "        text-align: right;\n",
       "    }\n",
       "</style>\n",
       "<table border=\"1\" class=\"dataframe\">\n",
       "  <thead>\n",
       "    <tr style=\"text-align: right;\">\n",
       "      <th></th>\n",
       "      <th>Attr1</th>\n",
       "      <th>Attr2</th>\n",
       "      <th>Attr3</th>\n",
       "      <th>Attr4</th>\n",
       "      <th>Attr5</th>\n",
       "      <th>Attr6</th>\n",
       "      <th>Attr7</th>\n",
       "      <th>Attr8</th>\n",
       "      <th>Attr9</th>\n",
       "      <th>Attr10</th>\n",
       "      <th>...</th>\n",
       "      <th>Attr56</th>\n",
       "      <th>Attr57</th>\n",
       "      <th>Attr58</th>\n",
       "      <th>Attr59</th>\n",
       "      <th>Attr60</th>\n",
       "      <th>Attr61</th>\n",
       "      <th>Attr62</th>\n",
       "      <th>Attr63</th>\n",
       "      <th>Attr64</th>\n",
       "      <th>0</th>\n",
       "    </tr>\n",
       "  </thead>\n",
       "  <tbody>\n",
       "    <tr>\n",
       "      <th>0</th>\n",
       "      <td>0.174190</td>\n",
       "      <td>0.41299</td>\n",
       "      <td>0.14371</td>\n",
       "      <td>1.3480</td>\n",
       "      <td>-28.9820</td>\n",
       "      <td>0.60383</td>\n",
       "      <td>0.219460</td>\n",
       "      <td>1.1225</td>\n",
       "      <td>1.1961</td>\n",
       "      <td>0.46359</td>\n",
       "      <td>...</td>\n",
       "      <td>0.163960</td>\n",
       "      <td>0.375740</td>\n",
       "      <td>0.83604</td>\n",
       "      <td>0.000007</td>\n",
       "      <td>9.7145</td>\n",
       "      <td>6.2813</td>\n",
       "      <td>84.291</td>\n",
       "      <td>4.3303</td>\n",
       "      <td>4.0341</td>\n",
       "      <td>0</td>\n",
       "    </tr>\n",
       "    <tr>\n",
       "      <th>1</th>\n",
       "      <td>0.146240</td>\n",
       "      <td>0.46038</td>\n",
       "      <td>0.28230</td>\n",
       "      <td>1.6294</td>\n",
       "      <td>2.5952</td>\n",
       "      <td>0.00000</td>\n",
       "      <td>0.171850</td>\n",
       "      <td>1.1721</td>\n",
       "      <td>1.6018</td>\n",
       "      <td>0.53962</td>\n",
       "      <td>...</td>\n",
       "      <td>0.027516</td>\n",
       "      <td>0.271000</td>\n",
       "      <td>0.90108</td>\n",
       "      <td>0.000000</td>\n",
       "      <td>5.9882</td>\n",
       "      <td>4.1103</td>\n",
       "      <td>102.190</td>\n",
       "      <td>3.5716</td>\n",
       "      <td>5.9500</td>\n",
       "      <td>0</td>\n",
       "    </tr>\n",
       "    <tr>\n",
       "      <th>2</th>\n",
       "      <td>0.000595</td>\n",
       "      <td>0.22612</td>\n",
       "      <td>0.48839</td>\n",
       "      <td>3.1599</td>\n",
       "      <td>84.8740</td>\n",
       "      <td>0.19114</td>\n",
       "      <td>0.004572</td>\n",
       "      <td>2.9881</td>\n",
       "      <td>1.0077</td>\n",
       "      <td>0.67566</td>\n",
       "      <td>...</td>\n",
       "      <td>0.007639</td>\n",
       "      <td>0.000881</td>\n",
       "      <td>0.99236</td>\n",
       "      <td>0.000000</td>\n",
       "      <td>6.7742</td>\n",
       "      <td>3.7922</td>\n",
       "      <td>64.846</td>\n",
       "      <td>5.6287</td>\n",
       "      <td>4.4581</td>\n",
       "      <td>0</td>\n",
       "    </tr>\n",
       "    <tr>\n",
       "      <th>3</th>\n",
       "      <td>0.024526</td>\n",
       "      <td>0.43236</td>\n",
       "      <td>0.27546</td>\n",
       "      <td>1.7833</td>\n",
       "      <td>-10.1050</td>\n",
       "      <td>0.56944</td>\n",
       "      <td>0.024526</td>\n",
       "      <td>1.3057</td>\n",
       "      <td>1.0509</td>\n",
       "      <td>0.56453</td>\n",
       "      <td>...</td>\n",
       "      <td>0.048398</td>\n",
       "      <td>0.043445</td>\n",
       "      <td>0.95160</td>\n",
       "      <td>0.142980</td>\n",
       "      <td>4.2286</td>\n",
       "      <td>5.0528</td>\n",
       "      <td>98.783</td>\n",
       "      <td>3.6950</td>\n",
       "      <td>3.4844</td>\n",
       "      <td>0</td>\n",
       "    </tr>\n",
       "    <tr>\n",
       "      <th>4</th>\n",
       "      <td>0.188290</td>\n",
       "      <td>0.41504</td>\n",
       "      <td>0.34231</td>\n",
       "      <td>1.9279</td>\n",
       "      <td>-58.2740</td>\n",
       "      <td>0.00000</td>\n",
       "      <td>0.233580</td>\n",
       "      <td>1.4094</td>\n",
       "      <td>1.3393</td>\n",
       "      <td>0.58496</td>\n",
       "      <td>...</td>\n",
       "      <td>0.176480</td>\n",
       "      <td>0.321880</td>\n",
       "      <td>0.82635</td>\n",
       "      <td>0.073039</td>\n",
       "      <td>2.5912</td>\n",
       "      <td>7.0756</td>\n",
       "      <td>100.540</td>\n",
       "      <td>3.6303</td>\n",
       "      <td>4.6375</td>\n",
       "      <td>0</td>\n",
       "    </tr>\n",
       "  </tbody>\n",
       "</table>\n",
       "<p>5 rows × 65 columns</p>\n",
       "</div>"
      ],
      "text/plain": [
       "      Attr1    Attr2    Attr3   Attr4    Attr5    Attr6     Attr7   Attr8  \\\n",
       "0  0.174190  0.41299  0.14371  1.3480 -28.9820  0.60383  0.219460  1.1225   \n",
       "1  0.146240  0.46038  0.28230  1.6294   2.5952  0.00000  0.171850  1.1721   \n",
       "2  0.000595  0.22612  0.48839  3.1599  84.8740  0.19114  0.004572  2.9881   \n",
       "3  0.024526  0.43236  0.27546  1.7833 -10.1050  0.56944  0.024526  1.3057   \n",
       "4  0.188290  0.41504  0.34231  1.9279 -58.2740  0.00000  0.233580  1.4094   \n",
       "\n",
       "    Attr9   Attr10  ...    Attr56    Attr57   Attr58    Attr59  Attr60  \\\n",
       "0  1.1961  0.46359  ...  0.163960  0.375740  0.83604  0.000007  9.7145   \n",
       "1  1.6018  0.53962  ...  0.027516  0.271000  0.90108  0.000000  5.9882   \n",
       "2  1.0077  0.67566  ...  0.007639  0.000881  0.99236  0.000000  6.7742   \n",
       "3  1.0509  0.56453  ...  0.048398  0.043445  0.95160  0.142980  4.2286   \n",
       "4  1.3393  0.58496  ...  0.176480  0.321880  0.82635  0.073039  2.5912   \n",
       "\n",
       "   Attr61   Attr62  Attr63  Attr64  0  \n",
       "0  6.2813   84.291  4.3303  4.0341  0  \n",
       "1  4.1103  102.190  3.5716  5.9500  0  \n",
       "2  3.7922   64.846  5.6287  4.4581  0  \n",
       "3  5.0528   98.783  3.6950  3.4844  0  \n",
       "4  7.0756  100.540  3.6303  4.6375  0  \n",
       "\n",
       "[5 rows x 65 columns]"
      ]
     },
     "execution_count": 4,
     "metadata": {},
     "output_type": "execute_result"
    }
   ],
   "source": [
    "feature_space = df.iloc[:, 0:64]\n",
    "target_column = df.iloc[:, 64]\n",
    "df = pd.concat([feature_space, as_discrete(target_column)], axis=1)\n",
    "\n",
    "df.head()"
   ]
  },
  {
   "cell_type": "markdown",
   "metadata": {},
   "source": [
    "### 2.2 Data Exploration (EDA) <a class=\"anchor\" id=\"section2_2\"></a>"
   ]
  },
  {
   "cell_type": "markdown",
   "metadata": {},
   "source": [
    "#### 2.2.1 Visualization <a id=\"section2_2_1\"></a> "
   ]
  },
  {
   "cell_type": "markdown",
   "metadata": {},
   "source": [
    "In this stage, we examined the feature columns and their data types to gain a comprehensive understanding of the dataset, including its size, structure, and characteristics. By visualizing the data through various plots and charts, data exploration enables the detection of patterns, trends, and relationships between different variables. This can provide valuable insights into the underlying relationships within the data.\n",
    "\n",
    "We use histograms, box plots, and density plots to visually explore the distribution of each feature. By using scatter plots and heat maps, we explore the correlation and relationship within each pair of features to ease the feature selection process.\n",
    "\n",
    "Exploring the data allows for the assessment of data quality, including issues such as data inconsistencies, errors, or biases. This ensures that the data used for analysis is reliable and representative of the underlying phenomena.\n",
    "\n"
   ]
  },
  {
   "cell_type": "code",
   "execution_count": 5,
   "metadata": {},
   "outputs": [],
   "source": [
    "# import libraries for data visualization\n",
    "import matplotlib.pyplot as plt\n",
    "import seaborn as sns\n",
    "\n",
    "# mute warning messages\n",
    "import warnings\n",
    "\n",
    "warnings.filterwarnings(\"ignore\", category=FutureWarning)\n",
    "\n",
    "# make a copy of the datasets for visualization\n",
    "df_graph = df.copy()"
   ]
  },
  {
   "cell_type": "markdown",
   "metadata": {},
   "source": [
    "##### Histogram\n",
    "The first step of our exploratory data analysis is to use histograms to study the distrbutions of each feature column as well as the target column. From the result (single or two high bars), we found that almost all features have far outliers."
   ]
  },
  {
   "cell_type": "code",
   "execution_count": null,
   "metadata": {},
   "outputs": [],
   "source": [
    "# Here we illustrate the histogram distribution for the first 10 features\n",
    "df_graph.iloc[:, 0:4].hist(figsize=(10, 6))  # figsize is optional, adjust as needed\n",
    "plt.show()"
   ]
  },
  {
   "cell_type": "markdown",
   "metadata": {},
   "source": [
    "##### Boxplot"
   ]
  },
  {
   "cell_type": "code",
   "execution_count": null,
   "metadata": {},
   "outputs": [],
   "source": [
    "plt.figure(figsize=(15, 40))\n",
    "i = 1\n",
    "for column in df_graph.columns:\n",
    "    plt.subplot(22, 3, i)  # Adjust layout as needed\n",
    "    i += 1\n",
    "    sns.boxplot(data=df_graph[column], color=\"skyblue\")\n",
    "    plt.title(f\"Box Plot of {column}\", fontsize=8)\n",
    "    plt.ylabel(\"Value\")\n",
    "\n",
    "plt.tight_layout()\n",
    "plt.show()"
   ]
  },
  {
   "cell_type": "markdown",
   "metadata": {},
   "source": [
    "#### 2.2.2 Detection of Outliers<a id=\"section2_2_2\"></a>\n",
    "In the realm of data analysis, outliers represent data points that stray considerably from the general pattern observed in a dataset. These outliers possess the potential to heavily influence the performance of models employed in analysis. Through thorough exploration of the data, outliers can be pinpointed, allowing for informed decisions on how to address them, whether by removal or transformation, to minimize their impact on the overall analysis.\n",
    "\n",
    "Upon examining the visualizations provided above, it becomes apparent that the majority of features exhibit a notable presence of outliers. Consequentlywetapproached to o remove these outliers, aiming to achieve clearered understanding of the underlying distribution of these features."
   ]
  },
  {
   "cell_type": "markdown",
   "metadata": {},
   "source": [
    "##### Outlier Removal"
   ]
  },
  {
   "cell_type": "code",
   "execution_count": 10,
   "metadata": {},
   "outputs": [],
   "source": [
    "# Define a function to remove outliers based on 1.5 * IQR for each feature\n",
    "def remove_outliers(column):\n",
    "    Q1 = column.quantile(0.25)\n",
    "    Q3 = column.quantile(0.75)\n",
    "    IQR = Q3 - Q1\n",
    "    lower_bound = Q1 - 1.5 * IQR\n",
    "    upper_bound = Q3 + 1.5 * IQR\n",
    "    return column[(column >= lower_bound) & (column <= upper_bound)]\n",
    "\n",
    "\n",
    "# Remove outliers for each feature and plot histograms\n",
    "clean_list = []\n",
    "for column in df_graph.columns:\n",
    "    cleaned_data = remove_outliers(df_graph[column])\n",
    "    clean_list.append(cleaned_data)"
   ]
  },
  {
   "cell_type": "markdown",
   "metadata": {},
   "source": [
    "Below are the visualizations based on the outliers removed data set."
   ]
  },
  {
   "cell_type": "markdown",
   "metadata": {},
   "source": [
    "##### Histogram (After Outlier Removal)"
   ]
  },
  {
   "cell_type": "code",
   "execution_count": null,
   "metadata": {},
   "outputs": [],
   "source": [
    "plt.figure(figsize=(15, 40))\n",
    "for i, series in enumerate(clean_list, start=1):\n",
    "    plt.subplot(22, 3, i)  # Adjust layout as needed\n",
    "    plt.hist(series, bins=10, alpha=0.5)\n",
    "    plt.title(f\"Histogram of {series.name}\", fontsize=8)\n",
    "    plt.xlabel(\"Value\")\n",
    "    plt.ylabel(\"Frequency\")\n",
    "\n",
    "plt.tight_layout()\n",
    "plt.show()"
   ]
  },
  {
   "cell_type": "markdown",
   "metadata": {},
   "source": [
    "##### Density plots (After Outlier Removal)"
   ]
  },
  {
   "cell_type": "code",
   "execution_count": null,
   "metadata": {},
   "outputs": [],
   "source": [
    "plt.figure(figsize=(15, 40))\n",
    "for i, series in enumerate(clean_list, start=1):\n",
    "    plt.subplot(22, 3, i)  # Adjust layout as needed\n",
    "    sns.kdeplot(series, color=\"skyblue\")\n",
    "    plt.title(f\"Density plot of {series.name}\", fontsize=8)\n",
    "    plt.xlabel(\"Value\")\n",
    "    plt.ylabel(\"Frequency\")\n",
    "\n",
    "plt.tight_layout()\n",
    "plt.show()"
   ]
  },
  {
   "cell_type": "markdown",
   "metadata": {},
   "source": [
    "##### Box plots"
   ]
  },
  {
   "cell_type": "code",
   "execution_count": null,
   "metadata": {},
   "outputs": [],
   "source": [
    "plt.figure(figsize=(15, 40))\n",
    "for i, series in enumerate(clean_list, start=1):\n",
    "    plt.subplot(22, 3, i)  # Adjust layout as needed\n",
    "    sns.boxplot(data=series, color=\"skyblue\")\n",
    "    plt.title(f\"Box Plot of {series.name}\", fontsize=8)\n",
    "    plt.ylabel(\"Value\")\n",
    "\n",
    "plt.tight_layout()\n",
    "plt.show()"
   ]
  },
  {
   "cell_type": "markdown",
   "metadata": {},
   "source": [
    "After removing the outliers, it becomes apparent that the majority of features exhibit smoother distributions. Nonetheless, due to the substantial presence of outliers, we have opted against their removal in subsequent data processing steps to prevent information loss.\n",
    "\n",
    "\n"
   ]
  },
  {
   "cell_type": "markdown",
   "metadata": {},
   "source": [
    "### 2.3 Data Pre-Processing <a class=\"anchor\" id=\"section2_3\"></a>"
   ]
  },
  {
   "cell_type": "markdown",
   "metadata": {},
   "source": [
    "In this section, we prepare our dataset by performing data pre-processing. Raw data often contains inconsistencies, missing values, and outliers that can negatively impact the performance of machine learning models. Data pre-processing ensures the data is clean, consistent, and formatted appropriately for our modelling tasks."
   ]
  },
  {
   "cell_type": "code",
   "execution_count": 6,
   "metadata": {},
   "outputs": [],
   "source": [
    "import numpy as np\n",
    "from sklearn.preprocessing import MinMaxScaler\n",
    "from sklearn.feature_selection import SelectKBest, f_classif\n",
    "from sklearn.model_selection import train_test_split\n",
    "from imblearn.over_sampling import SMOTE"
   ]
  },
  {
   "cell_type": "markdown",
   "metadata": {},
   "source": [
    "The function below splits the feature space and the target column."
   ]
  },
  {
   "cell_type": "code",
   "execution_count": 7,
   "metadata": {},
   "outputs": [],
   "source": [
    "# function to separate features and target\n",
    "def get_Xy(df):\n",
    "    X = df.iloc[:, 0 : len(df.columns) - 1]\n",
    "    y = as_discrete(df.iloc[:, -1])\n",
    "    return X, y"
   ]
  },
  {
   "cell_type": "markdown",
   "metadata": {},
   "source": [
    "From EDA, it is observed that there are many missing values in the dataset. We removed the column with more than 40% values missing as it is a significant loss of information. Rows with more than half of the values missing are also removed. For the remaining missing values, median imputation is used in view of the presence of drastic outliers in the dataset. "
   ]
  },
  {
   "cell_type": "code",
   "execution_count": 8,
   "metadata": {},
   "outputs": [],
   "source": [
    "# function to handle missing values\n",
    "def med_impute(df, y):\n",
    "    # remove columns with more than 40% values being null\n",
    "    thd1 = df.shape[0] * 0.4\n",
    "    cols = df.columns[df.isnull().sum() < thd1]\n",
    "    df = df[cols]\n",
    "\n",
    "    # remove rows with more than 50% values being null\n",
    "    thd2 = df.shape[1] * 0.5\n",
    "    y = y[df.isnull().sum(axis=1) <= thd2]\n",
    "    df = df[df.isnull().sum(axis=1) <= thd2]\n",
    "\n",
    "    # median imputation for null values\n",
    "    df = df.fillna(df.median())\n",
    "\n",
    "    return df, y"
   ]
  },
  {
   "cell_type": "markdown",
   "metadata": {},
   "source": [
    "The function is to normalise numerical columns to remove effect of inconsistent scales between feature columns."
   ]
  },
  {
   "cell_type": "code",
   "execution_count": 9,
   "metadata": {},
   "outputs": [],
   "source": [
    "def normalise(df):\n",
    "    scaler = MinMaxScaler()\n",
    "    X_scaled = pd.DataFrame(scaler.fit_transform(df), columns=df.columns)\n",
    "    return X_scaled"
   ]
  },
  {
   "cell_type": "markdown",
   "metadata": {},
   "source": [
    "The function is to drop columns that are of strong correlation with one or more other feature column(s) to remove the adverse effect of multicollinearity on subsequent classification result. "
   ]
  },
  {
   "cell_type": "code",
   "execution_count": 10,
   "metadata": {},
   "outputs": [],
   "source": [
    "# function for feature selection\n",
    "def drop_high_corr(df, threshold=0.7):\n",
    "    correlation_matrix = df.corr()\n",
    "    high_cor = []\n",
    "    dropped_features = []\n",
    "\n",
    "    # Iterate through the correlation matrix to find highly correlated pairs\n",
    "    for i in range(len(correlation_matrix.columns)):\n",
    "        for j in range(i):\n",
    "            if abs(correlation_matrix.iloc[i, j]) > threshold:\n",
    "                if correlation_matrix.columns[j] != correlation_matrix.columns[i]:\n",
    "                    high_cor.append(\n",
    "                        [\n",
    "                            correlation_matrix.columns[i],\n",
    "                            correlation_matrix.columns[j],\n",
    "                            correlation_matrix.iloc[i, j],\n",
    "                        ]\n",
    "                    )\n",
    "    # Iterate through the list of highly correlated pairs\n",
    "    for pair in high_cor:\n",
    "        feature1, feature2, correlation = pair\n",
    "\n",
    "        # Check if either of the features in the pair has already been dropped\n",
    "        if feature1 not in dropped_features and feature2 not in dropped_features:\n",
    "            # Check if the feature exists in the DataFrame before attempting to drop it\n",
    "            if feature2 in df.columns:\n",
    "                # Drop one of the correlated features from the dataset\n",
    "                # Here, we arbitrarily choose to drop the second feature in the pair\n",
    "                df.drop(feature2, axis=1, inplace=True)\n",
    "                dropped_features.append(feature2)\n",
    "            else:\n",
    "                print(\"Feature '\" + feature2 + \"' not found in the DataFrame.\")\n",
    "    return df"
   ]
  },
  {
   "cell_type": "code",
   "execution_count": 11,
   "metadata": {},
   "outputs": [],
   "source": [
    "# function to pre-process the data\n",
    "def process1(df):\n",
    "    X, y = get_Xy(df)\n",
    "    X_imputed, y = med_impute(X, y)\n",
    "    X_scaled_df = normalise(X_imputed)\n",
    "    return drop_high_corr(X_scaled_df), y\n",
    "\n",
    "\n",
    "# function to obtain train and test sets\n",
    "def process2(df):\n",
    "    X, y = process1(df)\n",
    "    X_train, X_test, y_train, y_test = train_test_split(\n",
    "        X, y, test_size=0.3, random_state=3244\n",
    "    )\n",
    "\n",
    "    return X_train, X_test, y_train, y_test\n",
    "\n",
    "\n",
    "# function to obtain train and test sets with sythesised instances of the minority class\n",
    "def pre_process(df):\n",
    "    X, y = process1(df)\n",
    "    X_train, X_test, y_train, y_test = train_test_split(\n",
    "        X, y, test_size=0.3, random_state=3244\n",
    "    )\n",
    "    smote = SMOTE(random_state=3244)\n",
    "    X_smote, y_smote = smote.fit_resample(X_train, y_train)\n",
    "\n",
    "    return X_smote, X_test, y_smote, y_test"
   ]
  },
  {
   "cell_type": "markdown",
   "metadata": {},
   "source": [
    "Here we use a heatmap to visualise the correlation relationship within each pair of features to ease the feature selection process to validate our previous feature selection step."
   ]
  },
  {
   "cell_type": "code",
   "execution_count": null,
   "metadata": {},
   "outputs": [
    {
     "data": {
      "text/plain": [
       "<AxesSubplot: >"
      ]
     },
     "execution_count": 46,
     "metadata": {},
     "output_type": "execute_result"
    },
    {
     "data": {
      "image/png": "[encoded data removed]",
      "text/plain": [
       "<Figure size 640x480 with 2 Axes>"
      ]
     },
     "metadata": {},
     "output_type": "display_data"
    }
   ],
   "source": [
    "# We use the pre-processing function 'process1' to get the feature space where no feature pair has a correlation value higher than 0.7.\n",
    "X_heatmap, y_heatmap = process1(df_graph)\n",
    "sns.heatmap(X_heatmap.corr(), annot=False, cmap=\"coolwarm\")"
   ]
  },
  {
   "cell_type": "markdown",
   "metadata": {},
   "source": [
    "### 2.3.1 ANOVA test for feature selection\n",
    "We will also perform feature selection for our dataset, because irrelavant features can:\n",
    "- **Increase Model Complexity**: Unnecessary features can lead to overfitting, where the model performs well on training data but poorly on unseen data.\n",
    "- **Reduce Model Interpretability**: A large number of features makes it difficult to understand how the model arrives at its predictions.\n",
    "- **Slow Down Training Time**: Training models with irrelevant features takes longer and consumes more computational resources.\n",
    "\n",
    "One method of feature selection is ANOVA test, defined in: `get_df_with_top_k_features` and `find_best_k_features_from_ANOVA`\n",
    "\n",
    "**ANOVA (Analysis of Variance)** is a statistical test used in feature selection to identify features that have a significant influence on the target variable. Here's how it helps select the best k features (where k is a chosen number):\n",
    "\n",
    "- Focuses on Variance: ANOVA analyses the variation in a feature's values. It compares the variation between groups (bankrupt vs. non-bankrupt) to the variation within each group.\n",
    "- Low p-value indicates Impact: Features with a low p-value (from the F-statistic) suggest a strong statistical difference in the feature's values between bankrupt and non-bankrupt companies. This implies the feature likely has a real impact on predicting bankruptcy."
   ]
  },
  {
   "cell_type": "code",
   "execution_count": 42,
   "metadata": {},
   "outputs": [],
   "source": [
    "def plot_ANOVA_test_graph(train_acc_dict, test_acc_dict):\n",
    "    # Extract keys and values from train_acc_dict and test_acc_dict\n",
    "    train_k_values, train_accuracy_values = zip(*train_acc_dict.items())\n",
    "    test_k_values, test_accuracy_values = zip(*test_acc_dict.items())\n",
    "\n",
    "    plt.figure(figsize=(6, 4))\n",
    "    # Plot train accuracy\n",
    "    plt.plot(\n",
    "        train_k_values, train_accuracy_values, label=\"Train Accuracy\", color=\"blue\"\n",
    "    )\n",
    "    # Plot test accuracy\n",
    "    plt.plot(test_k_values, test_accuracy_values, label=\"Test Accuracy\", color=\"green\")\n",
    "\n",
    "    # Find k values corresponding to maximum accuracies\n",
    "    best_train_k = max(train_acc_dict, key=train_acc_dict.get)\n",
    "    best_test_k = max(test_acc_dict, key=test_acc_dict.get)\n",
    "    best_train_accuracy = train_acc_dict[best_train_k]\n",
    "    best_test_accuracy = test_acc_dict[best_test_k]\n",
    "\n",
    "    # Annotate the point corresponding to the peak train accuracy\n",
    "    plt.annotate(\n",
    "        f\"Max Train Accuracy\\nk={best_train_k}, Acc={best_train_accuracy:.2f}\",\n",
    "        xy=(best_train_k, best_train_accuracy),\n",
    "        xytext=(-30, 20),\n",
    "        textcoords=\"offset points\",\n",
    "        arrowprops=dict(arrowstyle=\"->\", color=\"blue\"),\n",
    "    )\n",
    "\n",
    "    # Annotate the point corresponding to the peak test accuracy\n",
    "    plt.annotate(\n",
    "        f\"Max Test Accuracy\\nk={best_test_k}, Acc={best_test_accuracy:.2f}\",\n",
    "        xy=(best_test_k, best_test_accuracy),\n",
    "        xytext=(30, -30),\n",
    "        textcoords=\"offset points\",\n",
    "        arrowprops=dict(arrowstyle=\"->\", color=\"green\"),\n",
    "    )\n",
    "\n",
    "    # Label axes and add title\n",
    "    plt.xlabel(\"Number of Features (k)\")\n",
    "    plt.ylabel(\"Accuracy\")\n",
    "    plt.title(\"Accuracy vs. Number of Features from ANOVA test\")\n",
    "\n",
    "    plt.legend()\n",
    "    plt.show()\n",
    "\n",
    "\n",
    "## Note: *args follow the convention X_train, X_test, y_train, y_test\n",
    "def get_df_with_top_k_features(k_features, *args):  # after pre_process(df)\n",
    "    X_train = args[0]\n",
    "    X_test = args[1]\n",
    "    y_train = args[2]\n",
    "    y_test = args[3]\n",
    "\n",
    "    # define feature selection\n",
    "    fs = SelectKBest(score_func=f_classif, k=k_features)\n",
    "\n",
    "    # apply feature selection\n",
    "    fs.fit_transform(X_train, y_train)\n",
    "\n",
    "    # Take the features with the highest F-scores\n",
    "    fs_scores_array = np.array(fs.scores_)\n",
    "\n",
    "    # Get the indices that would sort the array in descending order\n",
    "    sorted_indices_desc = np.argsort(fs_scores_array)[::-1]\n",
    "\n",
    "    # Take the top k indices\n",
    "    top_indices = sorted_indices_desc[:k_features]\n",
    "\n",
    "    selected_columns_X_train = X_train.iloc[:, top_indices]\n",
    "    selected_columns_X_test = X_test.iloc[:, top_indices]\n",
    "\n",
    "    return selected_columns_X_train, selected_columns_X_test, y_train, y_test\n",
    "\n",
    "\n",
    "def find_best_k_features_from_ANOVA(model, *args):\n",
    "    # output: X_y training & test dataset that gives the best test accuracy\n",
    "    # model: input is *previous_args\n",
    "    #        output is train_accuracy, test_accuracy\n",
    "\n",
    "    X_train = args[0]\n",
    "    original_n_features = len(X_train.columns)\n",
    "\n",
    "    # find the optimum number of features that gives the best test accuracy\n",
    "    train_acc_dict = {}  # 0 is a dummy accuracy for k=0 features\n",
    "    test_acc_dict = {}\n",
    "    train_test_dataset = {}\n",
    "\n",
    "    for k in range(1, original_n_features + 1):\n",
    "        print(f\"k: {k}\")\n",
    "        train_test_dataset_after_ANOVA = get_df_with_top_k_features(k, *args)\n",
    "        train_accuracy, test_accuracy = model(*train_test_dataset_after_ANOVA)\n",
    "        train_test_dataset[k] = train_test_dataset_after_ANOVA\n",
    "        train_acc_dict[k] = train_accuracy\n",
    "        test_acc_dict[k] = test_accuracy\n",
    "\n",
    "    # Find k that gives the highest accuracy\n",
    "    best_train_k = max(train_acc_dict, key=train_acc_dict.get)\n",
    "    best_test_k = max(test_acc_dict, key=test_acc_dict.get)\n",
    "\n",
    "    print(f\"\\033[96mBest k for train_accuracy:\\033[00m {best_train_k}\")\n",
    "    print(f\"\\033[96mBest k for test_accuracy:\\033[00m {best_test_k}\")\n",
    "\n",
    "    plot_ANOVA_test_graph(train_acc_dict, test_acc_dict)\n",
    "\n",
    "    return train_test_dataset[best_test_k]"
   ]
  },
  {
   "cell_type": "markdown",
   "metadata": {},
   "source": [
    "Moving forward, we can use ANOVA test for feature selection to reduce the number of features in our dataset before building our model."
   ]
  },
  {
   "cell_type": "markdown",
   "metadata": {},
   "source": [
    "### 2.3.2 Filter Method for Feature Selection\n",
    "\n",
    "Filter method is a feature selection method in the preprocessing step, and it is independent of the machine learning algorithm deployed afterwards. In our case, we implemented two filtering method, based on Information Gain (IG) and Correlation respectively.\n",
    "\n",
    "1. **Information Gain (IG)**: This method measures the reduction in entropy from transforming a dataset in some way. It is often used in training decision trees. Information Gain can be applied to feature selection by evaluating the mutual information between each feature and the target variable. Features that have higher mutual information with the target variable are considered more informative and are thus selected.\n",
    "\n",
    "2. **Correlation**: This is a statistical measure that describes the size and direction of a relationship between variables. In feature selection, we often look for features that have a high correlation with the target variable but are not highly correlated with each other, to avoid redundancy.\n",
    "\n",
    "For both functions, we sort the features based on their scores in descending order. Higher scores indicate more important features.\n",
    "\n",
    "For better judging the optimal number of feature, we define a function `plot_feature_performance` to evaluate the performance of a model (balaneced Random Forest as example) as we vary the number of top features used. Finally, it plots the performance metrics f1 and recall (explained in the next chapter) against the number of features. With the aid of the plot, we determine the point of diminishing return through elbow method, selecting the optimal number of features.\n"
   ]
  },
  {
   "cell_type": "code",
   "execution_count": 39,
   "metadata": {},
   "outputs": [],
   "source": [
    "from sklearn.feature_selection import mutual_info_classif\n",
    "from sklearn.model_selection import cross_val_score\n",
    "\n",
    "\n",
    "def information_gain(X, y):\n",
    "    mi_scores = mutual_info_classif(X, y, discrete_features=\"auto\")\n",
    "    mi_scores = pd.Series(mi_scores, name=\"MI Scores\", index=X.columns)\n",
    "    mi_scores = mi_scores.sort_values(ascending=False)\n",
    "    return mi_scores\n",
    "\n",
    "\n",
    "def correlation_selection(X, y):\n",
    "    if isinstance(y, pd.Series):\n",
    "        y = y.to_frame(name=\"Target\")\n",
    "    elif isinstance(y, pd.DataFrame):\n",
    "        y.columns = [\"Target\"]\n",
    "\n",
    "    df_combined = pd.concat([X, y], axis=1)\n",
    "    correlation_matrix = df_combined.corr()\n",
    "    correlation_w_target = correlation_matrix[\"Target\"].drop(\"Target\")\n",
    "    return correlation_w_target.abs().sort_values(ascending=False)\n",
    "\n",
    "\n",
    "def plot_feature_performance(X, y, score_series, model, max_features=None):\n",
    "    f1_results = []\n",
    "    recall_results = []\n",
    "    feature_counts = []\n",
    "\n",
    "    if not max_features:\n",
    "        max_features = len(score_series)\n",
    "\n",
    "    for i in range(1, max_features + 1):\n",
    "        top_features = score_series.nlargest(i).index\n",
    "        X_selected = X[top_features]\n",
    "\n",
    "        # Cross-validation F1 and recall scores\n",
    "        f1 = cross_val_score(model, X_selected, y, cv=5, scoring=\"f1\")\n",
    "        recall = cross_val_score(model, X_selected, y, cv=5, scoring=\"recall\")\n",
    "\n",
    "        f1_results.append(f1.mean())\n",
    "        recall_results.append(recall.mean())\n",
    "        feature_counts.append(i)\n",
    "\n",
    "    # Plotting the F1-score and recall results\n",
    "    plt.figure(figsize=(10, 6))\n",
    "    plt.plot(\n",
    "        feature_counts,\n",
    "        f1_results,\n",
    "        marker=\"o\",\n",
    "        linestyle=\"-\",\n",
    "        markersize=8,\n",
    "        label=\"F1 Score\",\n",
    "    )\n",
    "    plt.plot(\n",
    "        feature_counts,\n",
    "        recall_results,\n",
    "        marker=\"o\",\n",
    "        linestyle=\"-\",\n",
    "        markersize=8,\n",
    "        label=\"Recall\",\n",
    "    )\n",
    "    plt.xlabel(\"Number of Features\")\n",
    "    plt.ylabel(\"Score\")\n",
    "    plt.title(\"Model Performance vs. Number of Features\")\n",
    "    plt.legend()\n",
    "    plt.grid(True)\n",
    "    plt.show()"
   ]
  },
  {
   "cell_type": "markdown",
   "metadata": {},
   "source": [
    "### 2.3.3 Wrapper Method for Feature Selection\n",
    "\n",
    "The wrapper method for feature selection is a technique used to identify the most significant features for a predictive model. It works by starting with an empty set and adding features one by one, each time choosing the feature that, when added, most improves the model's F1 score - our desirable metric. This approach is iterative and selects features based on their contribution to the model's predictive accuracy."
   ]
  },
  {
   "cell_type": "code",
   "execution_count": 13,
   "metadata": {},
   "outputs": [],
   "source": [
    "from sklearn.metrics import f1_score\n",
    "\n",
    "\n",
    "def forward_feature_selection(model, X_train, y_train, X_test, y_test):\n",
    "    selected_features = []\n",
    "    best_f1 = 0\n",
    "    features = list(X_train.columns)\n",
    "\n",
    "    for _ in range(len(features)):\n",
    "        f1_scores = []\n",
    "        for feature in features:\n",
    "            if feature not in selected_features:\n",
    "                temp_features = selected_features + [feature]\n",
    "                model.fit(X_train[temp_features], y_train)\n",
    "                y_pred = model.predict(X_test[temp_features])\n",
    "                f1 = f1_score(y_test, y_pred)\n",
    "                f1_scores.append((feature, f1))\n",
    "\n",
    "        # Find the best feature and its f1 score\n",
    "        f1_scores.sort(key=lambda x: x[1], reverse=True)\n",
    "        best_feature, best_feature_f1 = f1_scores[0]\n",
    "\n",
    "        if best_feature_f1 > best_f1:\n",
    "            print(f\"Adding {best_feature} improved F1 to {best_feature_f1}\")\n",
    "            best_f1 = best_feature_f1\n",
    "            selected_features.append(best_feature)\n",
    "        else:\n",
    "            break\n",
    "\n",
    "    print(\"Selected features:\", selected_features)\n",
    "    return selected_features"
   ]
  },
  {
   "cell_type": "markdown",
   "metadata": {},
   "source": [
    "## Chapter 3: Modelling <a class=\"anchor\" id=\"chapter3\"></a>"
   ]
  },
  {
   "cell_type": "markdown",
   "metadata": {},
   "source": [
    "### 3.1 Evaluation Metrics  <a class=\"anchor\" id=\"section3_1\"></a>\n",
    "\n",
    "Our primary task is to predict bankruptcy (a classification problem). Below are the key classification metrics that we will use to evaluate our model performance:"
   ]
  },
  {
   "cell_type": "markdown",
   "metadata": {},
   "source": [
    "#### 3.1.1 Accuracy\n",
    "Accuracy provides a ratio of correctly predicted observations to the total observations. It is especially useful when the classes are balanced with SMOTE.\n",
    "\n",
    "**Formula**:\n",
    "$$\\text{Accuracy} = \\frac{\\text{Number of Correct Predictions}}{\\text{Total Number of Predictions}}$$"
   ]
  },
  {
   "cell_type": "markdown",
   "metadata": {},
   "source": [
    "#### 3.1.2 Confusion Matrix and Related Terms\n",
    "The confusion matrix is a table layout that allows visualization of the performance of the algorithm, where each number in the matrix represents:\n",
    "- **TP (True Positives)**: Correctly predicted positive observations.\n",
    "- **TN (True Negatives)**: Correctly predicted negative observations.\n",
    "- **FP (False Positives)**: Incorrectly predicted as positive.\n",
    "- **FN (False Negatives)**: Incorrectly predicted as negative."
   ]
  },
  {
   "cell_type": "markdown",
   "metadata": {},
   "source": [
    "#### 3.1.3 Precision, Recall, and F1-Score\n",
    "These metrics offer a deeper understanding of the model's performance by taking into account data imbalances, thereby providing a more nuanced view of the accuracy across different class labels.\n",
    "\n",
    "- **Precision**:\n",
    "$$ \\text{Precision} = \\frac{\\text{TP}}{\\text{TP} + \\text{FP}} $$\n",
    "Precision measures the accuracy of positive predictions.\n",
    "\n",
    "- **Recall** (or Sensitivity or TPR):\n",
    "$$ \\text{Recall} = \\frac{\\text{TP}}{\\text{TP} + \\text{FN}} $$\n",
    "Recall measures the ability of a model to find all the relevant cases (all positive samples).\n",
    "\n",
    "- **F1-Score**:\n",
    "$$ \\text{F1-Score} = 2 \\times \\left( \\frac{\\text{Precision} \\times \\text{Recall}}{\\text{Precision} + \\text{Recall}} \\right) $$\n",
    "The F1-Score is the weighted average of Precision and Recall. Therefore, this score takes both false positives and false negatives into account. A high F1-score shows a model can classify the positive class correctly, while not misclassifying many negative classes as positive."
   ]
  },
  {
   "cell_type": "markdown",
   "metadata": {},
   "source": [
    "In bankruptcy prediction, avoiding false negatives is crucial due to their greater potential costs compared to false positives. Hence, we focus on the F1 score and recall in our model evaluation. The F1 score balances precision with recall, penalizing false negatives, while a high recall ensures most bankruptcy cases are correctly identified. These metrics are more indicative of our model's performance for this task than mere accuracy."
   ]
  },
  {
   "cell_type": "code",
   "execution_count": 36,
   "metadata": {},
   "outputs": [],
   "source": [
    "# import evaluation metrics\n",
    "from sklearn.metrics import (\n",
    "    accuracy_score,\n",
    "    classification_report,\n",
    "    confusion_matrix,\n",
    "    f1_score,\n",
    "    precision_score,\n",
    "    recall_score,\n",
    ")\n",
    "\n",
    "\n",
    "# function to print all evaluation results\n",
    "def get_acc(y_test, y_pred):\n",
    "    return round(accuracy_score(y_test, y_pred), 3)\n",
    "\n",
    "\n",
    "def get_pre(y_test, y_pred):\n",
    "    return round(precision_score(y_test, y_pred), 3)\n",
    "\n",
    "\n",
    "def get_rec(y_test, y_pred):\n",
    "    return round(recall_score(y_test, y_pred), 3)\n",
    "\n",
    "\n",
    "def get_f1(y_test, y_pred):\n",
    "    return round(f1_score(y_test, y_pred), 3)\n",
    "\n",
    "\n",
    "def print_res(y_test, y_pred):\n",
    "    print(\"Confusion Matrix:\\n\", confusion_matrix(y_test, y_pred))\n",
    "    print(f\"Accuracy: {get_acc(y_test, y_pred)}\")\n",
    "    print(f\"Precision Score: {get_pre(y_test, y_pred)}\")\n",
    "    print(f\"Recall Score: {get_rec(y_test, y_pred)}\")\n",
    "    print(f\"F1 Score: {get_f1(y_test, y_pred)}\")\n",
    "    print(f\"Classification Report:\\n {classification_report(y_test, y_pred)}\")"
   ]
  },
  {
   "cell_type": "markdown",
   "metadata": {},
   "source": [
    "### 3.2 Machine Learning Model Packages <a class=\"anchor\" id=\"section3_2\"></a>"
   ]
  },
  {
   "cell_type": "markdown",
   "metadata": {},
   "source": [
    "#### 3.2.1 Scikit-learn (sklearn)\n",
    "- **KNeighborsClassifier**: This model implements the k-nearest neighbors voting algorithm.\n",
    "- **LogisticRegression**: A model that applies logistic regression for binary classification tasks.\n",
    "- **SVC**: Support Vector Machine classifier known for its effectiveness in high-dimensional spaces.\n",
    "- **DecisionTreeClassifier**: A model that uses a decision tree for classification, useful for interpretability.\n",
    "- **GradientBoostingClassifier**: An ensemble model that builds on weak prediction models to create a strong classifier.\n",
    "- **RandomForestClassifier**: A meta estimator that fits a number of decision tree classifiers to various sub-samples of the dataset and uses averaging to improve predictive accuracy and control overfitting."
   ]
  },
  {
   "cell_type": "markdown",
   "metadata": {},
   "source": [
    "#### 3.2.2 Imbalanced-learn (imblearn)\n",
    "Dealing with imbalanced data:\n",
    "\n",
    "- **BalancedRandomForestClassifier**: A variation of the RandomForest that handles imbalances by adjusting weights inversely proportional to class frequencies in the input data."
   ]
  },
  {
   "cell_type": "markdown",
   "metadata": {},
   "source": [
    "#### 3.2.3 XGBoost (xgboost)\n",
    "\n",
    "- **XGBoost**: An implementation of gradient boosted decision trees designed for speed and performance.\n"
   ]
  },
  {
   "cell_type": "code",
   "execution_count": 35,
   "metadata": {},
   "outputs": [],
   "source": [
    "# sklearn\n",
    "from sklearn.linear_model import LogisticRegression\n",
    "from sklearn.neighbors import KNeighborsClassifier\n",
    "from sklearn.svm import SVC\n",
    "from sklearn.tree import DecisionTreeClassifier\n",
    "from sklearn.ensemble import RandomForestClassifier\n",
    "\n",
    "# imblearn\n",
    "from imblearn.ensemble import BalancedRandomForestClassifier\n",
    "\n",
    "# XGBoost\n",
    "import xgboost as xgb"
   ]
  },
  {
   "cell_type": "markdown",
   "metadata": {},
   "source": [
    "### 3.3 Model Evaluations <a class=\"anchor\" id=\"section3_3\"></a>\n",
    "\n",
    "In this section, we present the classification performance of all the Machine Learning Models that we used. We first evaluate the performance of a simple logistic regression to establish a benchmark for classification performance. Next, we explored other simple models, in the order of K-Nearest Neighbours, Support Vector Machine and Decision Tree. After that, we experimented with emsemble methods, including Random Forest and Balanced Random Forest. \n",
    "\n",
    "We will present a summary of the performance evaluations of all the models in the section 3.4. \n"
   ]
  },
  {
   "cell_type": "markdown",
   "metadata": {},
   "source": [
    "#### 3.3.1 Logistic regression\n",
    "As the benchmark model, the logistic regression model provides an initial overview of how well simple models can predict outcomes based on our data."
   ]
  },
  {
   "cell_type": "code",
   "execution_count": null,
   "metadata": {},
   "outputs": [],
   "source": [
    "X_train, X_test, y_train, y_test = pre_process(df)\n",
    "\n",
    "model = LogisticRegression()\n",
    "model.fit(X_train, y_train)\n",
    "y_pred = model.predict(X_test)\n",
    "\n",
    "print_res(y_test, y_pred)"
   ]
  },
  {
   "cell_type": "markdown",
   "metadata": {},
   "source": [
    "#### 3.3.2 K-Nearest Neighbors (KNN)\n",
    "We continue our modeling with the K-Nearest Neighbors (KNN) algorithm to compare its performance against the baseline established by logistic regression. KNN is a technique that predicts the class of a given point based on the majority vote of its nearest neighbors. KNN is useful for gaining insights into the dataset’s structure due to its reliance on feature similarity. "
   ]
  },
  {
   "cell_type": "code",
   "execution_count": null,
   "metadata": {},
   "outputs": [],
   "source": [
    "X_train, X_test, y_train, y_test = pre_process(df)\n",
    "\n",
    "\n",
    "# KNN prediction wrapper\n",
    "def KNN(X_training, X_testing, y_training, y_testing, k):\n",
    "    knn = KNeighborsClassifier(n_neighbors=k)\n",
    "    knn.fit(X_training, y_training)\n",
    "    y_pred = knn.predict(X_testing)\n",
    "    print_res(y_testing, y_pred)\n",
    "\n",
    "\n",
    "# our first choice of k is 5 by roundig up sqrt(number of features)\n",
    "KNN(X_train, X_test, y_train, y_test, 5)"
   ]
  },
  {
   "cell_type": "markdown",
   "metadata": {},
   "source": [
    "Given the high dimensionality of our dataset, even after data cleaning, the KNN model might not perform optimally due to its known limitations with high-dimensional data. To address this issue, we apply Principal Component Analysis (PCA) to reduce the dimensionality. This step aims to enhance the performance of our KNN model by focusing on the most significant features and reducing the noise associated with less important variables."
   ]
  },
  {
   "cell_type": "code",
   "execution_count": null,
   "metadata": {},
   "outputs": [],
   "source": [
    "from sklearn.decomposition import PCA\n",
    "from sklearn.preprocessing import StandardScaler\n",
    "\n",
    "# Assuming X is your feature matrix\n",
    "\n",
    "\n",
    "def pca(X_train, X_test, y_train, y_test, n):\n",
    "    X = pd.concat([X_train, X_test])\n",
    "    y = pd.concat([y_train, y_test])\n",
    "\n",
    "    # Standardize the feature matrix\n",
    "    scaler = StandardScaler()\n",
    "    X_scaled = scaler.fit_transform(X)\n",
    "\n",
    "    # Initialize PCA with desired number of components\n",
    "    pca = PCA(n_components=n)\n",
    "\n",
    "    # Apply PCA to the standardized feature matrix\n",
    "    X_pca = pca.fit_transform(X_scaled)\n",
    "    columns = [f\"PC{i+1}\" for i in range(n)]  # Column names for components\n",
    "    X_pca_df = pd.DataFrame(X_pca, columns=columns)\n",
    "    X_smote_pca = X_pca_df.iloc[:14014, :]\n",
    "    X_test_pca = X_pca_df.iloc[14014:, :]\n",
    "    return X_smote_pca, X_test_pca\n",
    "\n",
    "    # Now X_pca contains the reduced-dimensional dataset with n_components features\n",
    "\n",
    "\n",
    "def KNN_pca(X_train, X_test, y_train, y_test, k, n):\n",
    "    knn = KNeighborsClassifier(n_neighbors=k)\n",
    "\n",
    "    X_train_pca, X_test_pca = pca(X_train, X_test, y_train, y_test, n)\n",
    "\n",
    "    knn.fit(X_train_pca, y_train)\n",
    "\n",
    "    # Predict on the test set\n",
    "    y_pred = knn.predict(X_test_pca)\n",
    "\n",
    "    # Calculate accuracy\n",
    "    accuracy = accuracy_score(y_test, y_pred)\n",
    "    precision = precision_score(y_test, y_pred)\n",
    "    recall = recall_score(y_test, y_pred)\n",
    "    f1 = f1_score(y_test, y_pred)\n",
    "    return pd.Series(\n",
    "        {\"accuracy\": accuracy, \"precision\": precision, \"recall\": recall, \"f1\": f1}\n",
    "    )\n",
    "\n",
    "\n",
    "KNN_pca(X_smote, X_test, y_smote, y_test, 5, 3)\n",
    "\n",
    "\n",
    "def find_optimal_n_pca(metric, a, b, k):  # k is k-neighbors\n",
    "    max_n = 0\n",
    "    max_met = 0\n",
    "    for n in range(a, b):\n",
    "        curr_met = KNN_pca(X_train, X_test, y_smote, y_test, k, n)[metric]\n",
    "        if curr_met > max_met:\n",
    "            max_met = curr_met\n",
    "            max_n = n\n",
    "    return max_n, max_met\n",
    "\n",
    "\n",
    "# list n that maximize model performance at each k\n",
    "def list_pca():\n",
    "    for metric in [\"accuracy\", \"precision\", \"recall\", \"f1\"]:\n",
    "        print(metric)\n",
    "        for k in range(1, 11):\n",
    "            max_n, max_met = find_optimal_n_pca(metric, 1, 30, k)\n",
    "            print(f\"k={k} : {max_n}, {max_met}\")\n",
    "        print(\"\\n\")\n",
    "\n",
    "\n",
    "list_pca()"
   ]
  },
  {
   "cell_type": "markdown",
   "metadata": {},
   "source": [
    "We use list_pca to list out the best k and N to maximise different metrics. Based on the results ,we choose to use k=a and n(pca dimension) = 28 to get balance between precision, recall and f1 score. We also use k-fold cross validation to further improve our model."
   ]
  },
  {
   "cell_type": "code",
   "execution_count": null,
   "metadata": {},
   "outputs": [],
   "source": [
    "from sklearn.model_selection import KFold\n",
    "\n",
    "X = pd.concat([X_smote, X_test])\n",
    "y = pd.concat([y_smote, y_test])\n",
    "\n",
    "\n",
    "def get_k_fold_model(X, y, k_neighbor, k):\n",
    "    # Initialize the KNN classifier\n",
    "    knn = KNeighborsClassifier(n_neighbors=k_neighbor)\n",
    "\n",
    "    # Perform k-fold cross-validation\n",
    "    kfold = KFold(n_splits=k, shuffle=True, random_state=130)\n",
    "\n",
    "    for train_index, test_index in kfold.split(X):\n",
    "        X_train, X_test = X.iloc[train_index], X.iloc[test_index]\n",
    "        y_train, y_test = y.iloc[train_index], y.iloc[test_index]\n",
    "\n",
    "        # Fit KNN model\n",
    "        knn.fit(X_train, y_train)\n",
    "\n",
    "    return knn\n",
    "\n",
    "\n",
    "X_train_pca28, X_test_pca28 = pca(X_smote, X_test, y_smote, y_test, 28)\n",
    "X_pca = pd.concat([X_train_pca28, X_test_pca28])\n",
    "kfold_model = get_k_fold_model(X_pca, y, 4, 10)"
   ]
  },
  {
   "cell_type": "markdown",
   "metadata": {},
   "source": [
    "After making prediction using pca with 19 components, we reduce the data set to 3 dimension for visulisation "
   ]
  },
  {
   "cell_type": "code",
   "execution_count": null,
   "metadata": {},
   "outputs": [],
   "source": [
    "# use all data in training and testing but remove outliers when doing visualization\n",
    "import plotly.graph_objs as go\n",
    "\n",
    "\n",
    "def plot_predict_pca_3d_remove_outlier(\n",
    "    X_train, X_test, y_train, y_test, k, t, model=None\n",
    "):\n",
    "\n",
    "    if model is None:\n",
    "        model = KNeighborsClassifier(n_neighbors=k)\n",
    "        model.fit(X_train, y_train)\n",
    "\n",
    "    X_train_pca, X_test_pca = pca(X_train, X_test, y_train, y_test, 3)\n",
    "\n",
    "    # Predict on the test set\n",
    "    y_pred = model.predict(X_test)\n",
    "\n",
    "    z_scores = np.abs((X_test_pca - X_test_pca.mean()) / X_test_pca.std())\n",
    "\n",
    "    # Define a threshold for Z-score (e.g., 3)\n",
    "    threshold = t\n",
    "\n",
    "    # Find indices of outliers where Z-score is greater than the threshold\n",
    "    outlier_indices = np.where(z_scores > threshold)\n",
    "\n",
    "    remove_indices = list(set(outlier_indices[0]))\n",
    "    remove_indices.sort()\n",
    "    print((remove_indices))\n",
    "\n",
    "    X_test_pca = X_test_pca.reset_index(drop=True)\n",
    "\n",
    "    # Remove outliers from the PCA-transformed test data and corresponding labels\n",
    "    X_test_pca_filtered = X_test_pca.drop(remove_indices)\n",
    "    y_pred_filtered = np.delete(y_pred, remove_indices)\n",
    "\n",
    "    print(f\"original number of points {(X_test_pca.shape[0])}\")\n",
    "    print(f\"current number of points {(X_test_pca_filtered.shape[0])}\")\n",
    "\n",
    "    accuracy = accuracy_score(y_test, y_pred)\n",
    "    precision = precision_score(y_test, y_pred)\n",
    "    recall = recall_score(y_test, y_pred)\n",
    "    f1 = f1_score(y_test, y_pred)\n",
    "    confusion_mat = confusion_matrix(y_test, y_pred)\n",
    "    classification_rep = classification_report(y_test, y_pred)\n",
    "\n",
    "    print(f\"Accuracy = {accuracy}\")\n",
    "    print(f\"precision = {precision}\")\n",
    "    print(f\"recall = {recall}\")\n",
    "    print(f\"f1 = {f1}\")\n",
    "    print(f\"confusion matrix = \")\n",
    "    print(confusion_mat)\n",
    "    print(classification_rep)\n",
    "\n",
    "    trace = go.Scatter3d(\n",
    "        x=X_test_pca_filtered.iloc[:, 0],\n",
    "        y=X_test_pca_filtered.iloc[:, 1],\n",
    "        z=X_test_pca_filtered.iloc[:, 2],\n",
    "        mode=\"markers\",\n",
    "        marker=dict(color=y_pred_filtered, size=3),  # Use predictions as colors\n",
    "    )\n",
    "\n",
    "    # Create layout for the plot\n",
    "    layout = go.Layout(\n",
    "        title=\"PCA Visualization (3D) - Predictions\",\n",
    "        scene=dict(\n",
    "            xaxis=dict(title=\"PC1\"),\n",
    "            yaxis=dict(title=\"PC2\"),\n",
    "            zaxis=dict(title=\"PC3\"),\n",
    "        ),\n",
    "    )\n",
    "\n",
    "    # Create figure and add trace\n",
    "    fig = go.Figure(data=[trace], layout=layout)\n",
    "\n",
    "    # Show the interactive plot\n",
    "    fig.show()\n",
    "\n",
    "\n",
    "plot_predict_pca_3d_remove_outlier(\n",
    "    X_train_pca28, X_test_pca28, y_smote, y_test, 4, 3, kfold_model\n",
    ")"
   ]
  },
  {
   "cell_type": "markdown",
   "metadata": {},
   "source": [
    "#### 3.3.3 Support Vector Machine (SVM)\n",
    "We further our analysis by incorporating a Support Vector Machine (SVM) model to assess its effectiveness compared to the simpler models previously tested. SVM is a classification technique that finds the optimal hyperplane which best separates the data into different classes. It addresses the short comings of KNN, as it performs well in high-dimensional space and work well with non-linearly separable data."
   ]
  },
  {
   "cell_type": "code",
   "execution_count": 40,
   "metadata": {},
   "outputs": [],
   "source": [
    "from sklearn.model_selection import GridSearchCV\n",
    "\n",
    "def SVM_return_model(*args, kernel_type_):\n",
    "    X_train = args[0]\n",
    "    X_test = args[1]\n",
    "    y_train = args[2]\n",
    "    y_test = args[3]\n",
    "\n",
    "    # Reset indices to ensure alignment\n",
    "    X_train.reset_index(drop=True, inplace=True)\n",
    "    y_train.reset_index(drop=True, inplace=True)\n",
    "\n",
    "    # Training the SVM model\n",
    "    svm_model = SVC(kernel=kernel_type_)\n",
    "    print(f\"\\nkernel_type: {kernel_type_}\")\n",
    "    svm_model.fit(X_train, y_train)\n",
    "\n",
    "    # Predictions on the testing set\n",
    "    y_pred_train = svm_model.predict(X_train)\n",
    "    y_pred_test = svm_model.predict(X_test)\n",
    "\n",
    "    # Evaluating the model\n",
    "    train_accuracy = accuracy_score(y_train, y_pred_train)\n",
    "    print_res(y_test, y_pred_test)\n",
    "    print(f\"train_accuracy: {train_accuracy}\")\n",
    "    return svm_model\n",
    "\n",
    "\n",
    "def SVM_sigmoid_model(*args):  # for ANOVA\n",
    "    X_train = args[0]\n",
    "    X_test = args[1]\n",
    "    y_train = args[2]\n",
    "    y_test = args[3]\n",
    "\n",
    "    # Reset indices to ensure alignment\n",
    "    X_train.reset_index(drop=True, inplace=True)\n",
    "    y_train.reset_index(drop=True, inplace=True)\n",
    "\n",
    "    model = SVM_return_model(*args, kernel_type_=\"sigmoid\")\n",
    "    y_pred_train = model.predict(X_train)\n",
    "    y_pred_test = model.predict(X_test)\n",
    "\n",
    "    # Evaluating the model\n",
    "    train_accuracy = accuracy_score(y_train, y_pred_train)\n",
    "    test_accuracy = accuracy_score(y_test, y_pred_test)\n",
    "\n",
    "    return train_accuracy, test_accuracy"
   ]
  },
  {
   "cell_type": "code",
   "execution_count": 33,
   "metadata": {},
   "outputs": [],
   "source": [
    "df = pd.read_csv(\"../../data/3year.csv\")"
   ]
  },
  {
   "cell_type": "code",
   "execution_count": null,
   "metadata": {},
   "outputs": [],
   "source": [
    "train_test_dataset = pre_process(df)\n",
    "\n",
    "kernel_list = [\"linear\", \"poly\", \"rbf\", \"sigmoid\"]\n",
    "kernel_dict = dict()\n",
    "\n",
    "for kernel_type in kernel_list:\n",
    "    print(f\"\\033[96m{kernel_type}\\033[00m\")\n",
    "    model = SVM_return_model(*train_test_dataset, kernel_type_=kernel_type)\n",
    "\n",
    "# we found that sigmoid gives the best test accuracy\n",
    "best_kernel_type = \"sigmoid\"\n",
    "\n",
    "# use ANOVA test for feature selection, we find that k=19 gives the best test accuracy\n",
    "# best_train_test_dataset = find_best_k_features_from_ANOVA(\n",
    "#    SVM_sigmoid_model, *train_test_dataset\n",
    "# )\n",
    "\n",
    "k_features = 19"
   ]
  },
  {
   "cell_type": "code",
   "execution_count": 50,
   "metadata": {},
   "outputs": [
    {
     "data": {
      "image/png": "[encoded data removed]",
      "text/plain": [
       "<IPython.core.display.Image object>"
      ]
     },
     "execution_count": 50,
     "metadata": {
      "image/png": {
       "width": 400
      }
     },
     "output_type": "execute_result"
    }
   ],
   "source": [
    "from IPython import display\n",
    "\n",
    "display.Image(\"./SVM_find_best_k_ANOVA.png\", width=400)"
   ]
  },
  {
   "cell_type": "code",
   "execution_count": 44,
   "metadata": {},
   "outputs": [
    {
     "name": "stdout",
     "output_type": "stream",
     "text": [
      "\n",
      "kernel_type: sigmoid\n"
     ]
    },
    {
     "name": "stderr",
     "output_type": "stream",
     "text": [
      "/Library/Frameworks/Python.framework/Versions/3.11/lib/python3.11/site-packages/sklearn/utils/validation.py:1111: DataConversionWarning: A column-vector y was passed when a 1d array was expected. Please change the shape of y to (n_samples, ), for example using ravel().\n",
      "  y = column_or_1d(y, warn=True)\n",
      "/Library/Frameworks/Python.framework/Versions/3.11/lib/python3.11/site-packages/sklearn/utils/validation.py:1111: DataConversionWarning: A column-vector y was passed when a 1d array was expected. Please change the shape of y to (n_samples, ), for example using ravel().\n",
      "  y = column_or_1d(y, warn=True)\n"
     ]
    },
    {
     "name": "stdout",
     "output_type": "stream",
     "text": [
      "Confusion Matrix:\n",
      " [[2254  745]\n",
      " [ 104   48]]\n",
      "Accuracy: 0.731\n",
      "Precision Score: 0.061\n",
      "Recall Score: 0.316\n",
      "F1 Score: 0.102\n",
      "Classification Report:\n",
      "               precision    recall  f1-score   support\n",
      "\n",
      "           0       0.96      0.75      0.84      2999\n",
      "           1       0.06      0.32      0.10       152\n",
      "\n",
      "    accuracy                           0.73      3151\n",
      "   macro avg       0.51      0.53      0.47      3151\n",
      "weighted avg       0.91      0.73      0.81      3151\n",
      "\n",
      "train_accuracy: 0.5028542885685743\n"
     ]
    }
   ],
   "source": [
    "best_train_test_dataset = get_df_with_top_k_features(k_features, *train_test_dataset)\n",
    "\n",
    "# Now we create a SVM model based on the top 19 features after ANOVA test, and sigmoid as kernel\n",
    "SVM_model2 = SVM_return_model(*best_train_test_dataset, kernel_type_=best_kernel_type)\n",
    "\n",
    "X_train1, X_test1, y_train1, y_test1 = best_train_test_dataset\n",
    "conf_matrix = confusion_matrix(y_test1, y_test1)"
   ]
  },
  {
   "cell_type": "markdown",
   "metadata": {},
   "source": [
    "The Support Vector Machine (SVM) model has not performed as expected in our analysis for several reasons:\n",
    "\n",
    "1. **Sensitivity to Outliers**: SVM is particularly sensitive to outliers. In our dataset, we retained outliers to capture distinctive characteristics of different companies with respect to their bankruptcy status. This sensitivity can lead to skewed decision boundaries, adversely affecting model performance. \n",
    "\n",
    "2. **Overfitting Issues**: In this analysis, the SVM model has shown a tendency to overfit. This issue stems from the lack of an appropriate regularization function. Without proper regularization, SVM models can overly conform to the noise in the training data rather than capturing the general pattern, leading to poor generalization on new, unseen data.\n",
    "\n",
    "Hence, this prompt us to improve our SVM model with grid search method."
   ]
  },
  {
   "cell_type": "code",
   "execution_count": null,
   "metadata": {},
   "outputs": [],
   "source": [
    "param_grid = {\n",
    "    \"C\": [0.1, 1, 10, 100, 1000],\n",
    "    \"gamma\": [1, 0.1, 0.01, 0.001, 0.0001],\n",
    "    \"kernel\": [\"linear\", \"poly\", \"rbf\", \"sigmoid\"],\n",
    "}\n",
    "\n",
    "# grid = GridSearchCV(SVC(), param_grid, refit=True, verbose=3)\n",
    "grid = GridSearchCV(SVM_model2, param_grid, refit=True, verbose=3)\n",
    "\n",
    "# fitting the model for grid search\n",
    "grid.fit(X_train1, y_train1)\n",
    "\n",
    "# print best parameter after tuning\n",
    "print(grid.best_params_)\n",
    "\n",
    "# print how our model looks after hyper-parameter tuning\n",
    "print(grid.best_estimator_)\n",
    "\n",
    "grid_predictions = grid.predict(X_test1)\n",
    "\n",
    "# print classification report (without grid search)\n",
    "print(\"SVM model without grid-search\")\n",
    "y_pred_test = SVM_model2.predict(X_test1)\n",
    "print(confusion_matrix(y_test1, y_pred_test))\n",
    "clf = SVM_return_model(\n",
    "    *best_train_test_dataset, best_kernel_type\n",
    ")  # to print accuracy score\n",
    "\n",
    "# print classification report with grid search\n",
    "print(\"\\nSVM model with grid-search\")\n",
    "print(confusion_matrix(y_test1, grid_predictions))\n",
    "print(classification_report(y_test1, grid_predictions))"
   ]
  },
  {
   "cell_type": "markdown",
   "metadata": {},
   "source": [
    "#### 3.3.4 Decision Tree\n",
    "A Decision Tree  works by splitting the dataset into smaller subsets based on feature values, thereby creating a tree structure. Each split is strategically made to maximize information gain—the reduction in entropy or disorder after the split. "
   ]
  },
  {
   "cell_type": "code",
   "execution_count": null,
   "metadata": {},
   "outputs": [],
   "source": [
    "dt = DecisionTreeClassifier(random_state=42)\n",
    "dt.fit(X_train, y_train)\n",
    "\n",
    "y_pred = dt.predict(X_test)\n",
    "\n",
    "print_res(y_test, y_pred)"
   ]
  },
  {
   "cell_type": "markdown",
   "metadata": {},
   "source": [
    "With grid search, we found the Best parameters: `{'max_depth': 40, 'max_leaf_nodes': None, 'min_samples_leaf': 1, 'min_samples_split': 2}`.\n",
    "We further explore the model performance:"
   ]
  },
  {
   "cell_type": "code",
   "execution_count": null,
   "metadata": {},
   "outputs": [],
   "source": [
    "dt = DecisionTreeClassifier(\n",
    "    max_depth=40, max_leaf_nodes=None, min_samples_leaf=1, min_samples_split=2\n",
    ")\n",
    "dt.fit(X_train, y_train)\n",
    "\n",
    "y_pred = dt.predict(X_test)\n",
    "\n",
    "print_res(y_test, y_pred)"
   ]
  },
  {
   "cell_type": "markdown",
   "metadata": {},
   "source": [
    "#### 3.3.5 Random Forest\n",
    "Random forest method is introduced as an improvement over single decision trees to reduce overfitting and improve predictive performance. Two underlying principles of random forest are:\n",
    "1. **Bagging**: It creates multiple subsets of the training data through random sampling with replacement and using these subsets to train a collection of decision trees (weak learners). This method aims to reduce variance of prediction result.\n",
    "2. **Random Subspace**: The random forest randomly selects a subset of features  from the original feature set for each individual decision tree within the ensemble. By allowing each tree to focus on a different subset of features, the random forest can capture different patterns and relationships within the data, leading to more accurate and stable predictions."
   ]
  },
  {
   "cell_type": "code",
   "execution_count": null,
   "metadata": {},
   "outputs": [],
   "source": [
    "# random forest initial trial\n",
    "rdt = RandomForestClassifier(n_estimators=100, max_depth=5, random_state=42)\n",
    "\n",
    "rdt.fit(X_train, y_train)\n",
    "y_pred = rdt.predict(X_test)\n",
    "\n",
    "print_res(y_test, y_pred)"
   ]
  },
  {
   "cell_type": "code",
   "execution_count": null,
   "metadata": {},
   "outputs": [],
   "source": [
    "# random forest with grid search best model\n",
    "rdt = RandomForestClassifier(\n",
    "    n_estimators=100,\n",
    "    max_features=\"sqrt\",\n",
    "    min_samples_leaf=4,  # Increased from 1 to 4\n",
    "    min_samples_split=10,  # Increased from 2 to 10\n",
    "    max_depth=25,\n",
    "    class_weight={0: 0.7, 1: 0.32},\n",
    "    bootstrap=True,\n",
    "    min_impurity_decrease=0.00001,\n",
    "    random_state=42,\n",
    ")\n",
    "\n",
    "rdt.fit(X_train, y_train)\n",
    "y_pred = rdt.predict(X_test)\n",
    "\n",
    "print_res(y_test, y_pred)"
   ]
  },
  {
   "cell_type": "markdown",
   "metadata": {},
   "source": [
    "During the model fitting process, we found out that the model could overfit on the training data, hence we proceed to reduce the dimension of our data with feature selection using forward selection loop."
   ]
  },
  {
   "cell_type": "code",
   "execution_count": null,
   "metadata": {},
   "outputs": [],
   "source": [
    "rdt_selected = RandomForestClassifier(\n",
    "    n_estimators=100,\n",
    "    max_features=\"sqrt\",\n",
    "    min_samples_leaf=4,  # Increased from 1 to 4\n",
    "    min_samples_split=10,  # Increased from 2 to 10\n",
    "    max_depth=25,\n",
    "    class_weight={0: 0.7, 1: 0.32},\n",
    "    bootstrap=True,\n",
    "    min_impurity_decrease=0.00001,\n",
    "    random_state=42,\n",
    ")\n",
    "\n",
    "selected_features = forward_feature_selection(\n",
    "    rdt_selected, X_train, y_train, X_test, y_test\n",
    ")\n",
    "X_train_selected = X_train[selected_features]\n",
    "X_test_selected = X_test[selected_features]\n",
    "\n",
    "\n",
    "rdt_selected.fit(X_train_selected, y_train)\n",
    "y_pred_selected = rdt_selected.predict(X_test_selected)\n",
    "\n",
    "print_res(y_test, y_pred_selected)"
   ]
  },
  {
   "cell_type": "markdown",
   "metadata": {},
   "source": [
    "#### 3.3.6 Balanced Random Forest (BRF)\n",
    "The Balanced Random Forest (BRF) method enhances the traditional Random Forest by specifically addressing class imbalance in training datasets. This approach boosts predictive accuracy and fairness for unbalanced data. BRF tackles Random Forest’s limitations by ensuring equal class representation in each bootstrap sample, achieved through either downsampling or oversampling. The following code demonstrates the BRF implementation on an imbalanced insurance dataset."
   ]
  },
  {
   "cell_type": "code",
   "execution_count": null,
   "metadata": {},
   "outputs": [],
   "source": [
    "# balanced random forest initial trial\n",
    "brf = BalancedRandomForestClassifier(n_estimators=100, max_depth=None, random_state=42)\n",
    "brf.fit(X_train, y_train)\n",
    "y_pred = brf.predict(X_test)\n",
    "\n",
    "print_res(y_test, y_pred)"
   ]
  },
  {
   "cell_type": "code",
   "execution_count": null,
   "metadata": {},
   "outputs": [],
   "source": [
    "# balanced random forest with grid search best model\n",
    "brt = BalancedRandomForestClassifier(\n",
    "    n_estimators=100,\n",
    "    max_features=\"sqrt\",\n",
    "    min_samples_leaf=4,\n",
    "    min_samples_split=10,\n",
    "    max_depth=25,\n",
    "    class_weight={0: 0.7, 1: 0.32},  # this is manually adjusted\n",
    "    bootstrap=True,\n",
    "    min_impurity_decrease=0.00001,\n",
    "    random_state=42,\n",
    ")\n",
    "\n",
    "brt.fit(X_train_selected, y_train)\n",
    "y_pred = brt.predict(X_test_selected)\n",
    "\n",
    "print_res(y_test, y_pred)"
   ]
  },
  {
   "cell_type": "markdown",
   "metadata": {},
   "source": [
    "Same as random forest, one downside of hyperparameter tuning with grid search is that it could potentially lead to overfitting of the training data. We also try to reduce this via forward feature selection."
   ]
  },
  {
   "cell_type": "code",
   "execution_count": null,
   "metadata": {},
   "outputs": [],
   "source": [
    "brf_selected = BalancedRandomForestClassifier(\n",
    "    n_estimators=100,\n",
    "    max_features=\"sqrt\",\n",
    "    min_samples_leaf=4,  # Increased from 1 to 4\n",
    "    min_samples_split=10,  # Increased from 2 to 10\n",
    "    max_depth=25,\n",
    "    class_weight={0: 0.7, 1: 0.32},\n",
    "    bootstrap=True,\n",
    "    min_impurity_decrease=0.00001,\n",
    "    random_state=42,\n",
    ")\n",
    "\n",
    "selected_features = forward_feature_selection(\n",
    "    brf_selected, X_train, X_test, y_train, y_test\n",
    ")\n",
    "\n",
    "X_train_selected = X_train[selected_features]\n",
    "X_test_selected = X_test[selected_features]\n",
    "\n",
    "\n",
    "brf_selected.fit(X_train_selected, y_train)\n",
    "y_pred_selected = brf_selected.predict(X_test_selected)\n",
    "\n",
    "\n",
    "print_res(y_test, y_pred_selected)"
   ]
  },
  {
   "cell_type": "markdown",
   "metadata": {},
   "source": [
    "#### 3.3.7. XGboost (eXtreme Gradient Boosting)"
   ]
  },
  {
   "cell_type": "markdown",
   "metadata": {},
   "source": [
    "XGBoost is based on the gradient boosting framework and utilizes decision trees as base learners. It iteratively improves predictions by minimizing a loss function, employing techniques like regularization to prevent overfitting."
   ]
  },
  {
   "cell_type": "markdown",
   "metadata": {},
   "source": [
    "Without SMOTE"
   ]
  },
  {
   "cell_type": "code",
   "execution_count": null,
   "metadata": {},
   "outputs": [],
   "source": [
    "X_train, X_test, y_train, y_test = process2(df)\n",
    "dtrain = xgb.DMatrix(X_train, label=y_train)\n",
    "dtest = xgb.DMatrix(X_test, label=y_test)\n",
    "\n",
    "xgb_classifier = xgb.XGBClassifier(\n",
    "    n_estimators=100,\n",
    "    objective=\"binary:logistic\",\n",
    "    tree_method=\"hist\",\n",
    "    eta=0.1,\n",
    "    max_depth=3,\n",
    "    enable_categorical=True,\n",
    ")\n",
    "\n",
    "xgb_classifier.fit(X_train, y_train)\n",
    "y_pred = xgb_classifier.predict(X_test)\n",
    "print_res(y_test, y_pred)"
   ]
  },
  {
   "cell_type": "markdown",
   "metadata": {},
   "source": [
    "With SMOTE"
   ]
  },
  {
   "cell_type": "code",
   "execution_count": null,
   "metadata": {},
   "outputs": [],
   "source": [
    "X_train, X_test, y_train, y_test = pre_process(df)\n",
    "dtrain = xgb.DMatrix(X_train, label=y_train)\n",
    "dtest = xgb.DMatrix(X_test, label=y_test)\n",
    "\n",
    "xgb_classifier = xgb.XGBClassifier(\n",
    "    n_estimators=100,\n",
    "    objective=\"binary:logistic\",\n",
    "    tree_method=\"hist\",\n",
    "    eta=0.1,\n",
    "    max_depth=3,\n",
    "    enable_categorical=True,\n",
    ")\n",
    "\n",
    "xgb_classifier.fit(X_train, y_train)\n",
    "y_pred = xgb_classifier.predict(X_test)\n",
    "print_res(y_test, y_pred)"
   ]
  },
  {
   "cell_type": "markdown",
   "metadata": {},
   "source": [
    "## Chapter 4: Numerical results"
   ]
  },
  {
   "cell_type": "markdown",
   "metadata": {},
   "source": [
    "After experimenting with different models and different feature selection and fine-tuning methods, we have summarise the model metrics below."
   ]
  },
  {
   "cell_type": "markdown",
   "metadata": {},
   "source": [
    "|No | Model| Feature Selection | With SMOTE | Model Improvement methods| Test Accuracy\t| Precision |\tRecall | F1-score |\n",
    "|:---------|:--------:|---------:|:---------|:--------:|---------:|:---------|:--------:|---------:|\n",
    "| 1 | Logistic         | ANOVA (k=15)      | yes        |                           | 0.57     | 0.05      | 0.53   | 0.09 |\n",
    "| 2 | KNN              | PCA               | yes        | K-fold cross validation   | 0.909    | 0.188     | 0.342  | 0.242|\n",
    "| 3 | KNN              |                   | yes        | Bagging                   |0.966    | 1         | 0.194  | 0.325|\n",
    "| 4 | Random Forest    | selection loop    | yes        | Grid-search               |  0.906    | 0.23      | 0.5    | 0.31 |\n",
    "| 5 | SVM              | ANOVA (k=25)      | yes        | kernel= sigmoid           |0.601    | 0.04      | 0.38   | 0.07 |\n",
    "| 6 | SVM              | ANOVA (k=25)      | yes        | Grid-search               |  0.54     | 0.07      | 0.77   | 0.13 |\n",
    "| 7 | Decision Tree    | get_train_test    | no         |                           | 0.919          | 0.185    | 0.197     | 0.191  |      |\n",
    "| 8 | Decision Tree    |                   | yes        |                           | 0.865          | 0.138    | 0.342     | 0.197  |      |\n",
    "| 9 | Decision Tree    |                   | no         | Grid-search               | 0.933          | 0.237    | 0.178     | 0.203  |      |\n",
    "|10 | Decision Tree    |                   | yes        | Grid-search               | 0.861          | 0.137    | 0.355     | 0.198  |      |\n",
    "|11 | XGBoost          |                   | no         |                           | 0.96           | 0.931    | 0.178     | 0.298  |      |\n",
    "|12 | XGBoost          |                   | yes        |                           | 0.838          | 0.162    | 0.566     | 0.252  |      |\n",
    "|13 | Balanced RF      | selection loop    | no         | grid_search, classweight  | 0.857          | 0.22    | 0.71      | 0.33   | "
   ]
  },
  {
   "cell_type": "markdown",
   "metadata": {},
   "source": [
    "Overall, we see that No.11, XGBoost has greatest results overall, with test accuracy 0.96, precision 0.931, recall 0.178 and f1-score 0.298.\n",
    "\n",
    "High recall = TP / (TP + FN)\n",
    "low FN -> small number of companies predicted as not bankrupt\n",
    "otherwise, if FN is high, companies predicted as not bankrupt might perform actions that put their financial situation at further risks. Failure to detect bankruptcy is risky because prevention of bankruptcy that later stages becomes harder. "
   ]
  },
  {
   "cell_type": "markdown",
   "metadata": {},
   "source": [
    "Through this project, we gained a deeper understanding of the different stages in developing a Machine Learning Model. Below are some of our major learning points.\n",
    "\n",
    "1. Understanding Feature Importance: Through feature selection and engineering, the project will shed light on the critical financial indicators and market variables that significantly impact the likelihood of a firm going bankrupt. This knowledge can enhance our understanding of the key drivers of financial distress and bankruptcy risk.\n",
    "\n",
    "2. Model Selection and Evaluation: By comparing the performance of various machine learning algorithms, the project will provide insights into the strengths and weaknesses of each model for bankruptcy prediction. This comparative analysis will help practitioners and researchers make informed decisions about which models are most suitable for their specific contexts and datasets.\n",
    "\n",
    "3. Model Interpretability: The project will explore methods for interpreting the predictions of machine learning models, including feature importance analysis and visualization of decision boundaries. Understanding how models arrive at their predictions is crucial for gaining trust and confidence in their use, especially in high-stakes applications like bankruptcy prediction.\n",
    "\n",
    "4. Generalization and Validation Techniques: Through the use of cross-validation and testing on unseen data, the project will assess the generalization ability of the trained models. Understanding how well models perform on new, unseen data is essential for ensuring their reliability and usefulness in real-world scenarios.\n",
    "\n",
    "5. Practical Deployment Considerations: The project will address the practical considerations involved in deploying machine learning models for bankruptcy prediction, such as model integration, scalability, and usability. This aspect of the project will provide valuable insights for stakeholders looking to implement predictive analytics tools in their financial decision-making processes.\n",
    "\n",
    "6. Ethical and Social Implications: The project will raise awareness of the ethical and social implications of using machine learning for bankruptcy prediction. It will explore issues such as potential biases in the data, fairness in algorithmic decision-making, and the responsible use of predictive analytics in financial contexts.\n",
    "\n",
    "Overall, the project's learning points will contribute to advancing knowledge and best practices in the use of machine learning for bankruptcy prediction, with implications for financial risk management, regulatory compliance, and corporate governance."
   ]
  },
  {
   "cell_type": "markdown",
   "metadata": {},
   "source": []
  }
 ],
 "metadata": {
  "kernelspec": {
   "display_name": "Python 3 (ipykernel)",
   "language": "python",
   "name": "python3"
  },
  "language_info": {
   "codemirror_mode": {
    "name": "ipython",
    "version": 3
   },
   "file_extension": ".py",
   "mimetype": "text/x-python",
   "name": "python",
   "nbconvert_exporter": "python",
   "pygments_lexer": "ipython3",
   "version": "3.9.6"
  }
 },
 "nbformat": 4,
 "nbformat_minor": 4
}
