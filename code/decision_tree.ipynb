{
 "cells": [
  {
   "cell_type": "code",
   "execution_count": 26,
   "metadata": {},
   "outputs": [],
   "source": [
    "import numpy as np\n",
    "import sklearn\n",
    "import pandas as pd\n",
    "import matplotlib.pyplot as plt\n",
    "import seaborn as sns\n",
    "from scipy.io import arff\n",
    "import data_processing as dp\n",
    "import warnings\n",
    "\n",
    "warnings.filterwarnings(\"ignore\")\n",
    "\n",
    "from sklearn.tree import DecisionTreeClassifier\n",
    "from sklearn.ensemble import RandomForestClassifier\n",
    "from sklearn.model_selection import train_test_split, KFold\n",
    "from sklearn.metrics import (\n",
    "    accuracy_score,\n",
    "    f1_score,\n",
    "    recall_score,\n",
    "    confusion_matrix,\n",
    "    classification_report,\n",
    ")"
   ]
  },
  {
   "cell_type": "code",
   "execution_count": 27,
   "metadata": {},
   "outputs": [],
   "source": [
    "data = arff.loadarff(\"../data/3year.arff\")\n",
    "df = pd.DataFrame(data[0])\n",
    "X_train, X_test, y_train, y_test = dp.pre_process(df)"
   ]
  },
  {
   "cell_type": "code",
   "execution_count": 28,
   "metadata": {},
   "outputs": [],
   "source": [
    "# X_train, X_test, y_train, y_test = dp.get_train_test(df)"
   ]
  },
  {
   "cell_type": "code",
   "execution_count": 29,
   "metadata": {},
   "outputs": [
    {
     "name": "stdout",
     "output_type": "stream",
     "text": [
      "Accuracy: 0.8508410028562361\n",
      "F1 Score: 0.14855072463768115\n",
      "Recall Score: 0.30597014925373134\n",
      "Confusion Matrix:\n",
      " [[2640  377]\n",
      " [  93   41]]\n",
      "Classification Report:\n",
      "               precision    recall  f1-score   support\n",
      "\n",
      "           0       0.97      0.88      0.92      3017\n",
      "           1       0.10      0.31      0.15       134\n",
      "\n",
      "    accuracy                           0.85      3151\n",
      "   macro avg       0.53      0.59      0.53      3151\n",
      "weighted avg       0.93      0.85      0.89      3151\n",
      "\n"
     ]
    }
   ],
   "source": [
    "dt = DecisionTreeClassifier()\n",
    "dt.fit(X_train, y_train)\n",
    "\n",
    "y_pred = dt.predict(X_test)\n",
    "\n",
    "accuracy = accuracy_score(y_test, y_pred)\n",
    "f1 = f1_score(y_test, y_pred)\n",
    "recall = recall_score(y_test, y_pred)\n",
    "conf_matrix = confusion_matrix(y_test, y_pred)\n",
    "classification_report = classification_report(y_test, y_pred)\n",
    "\n",
    "# Print evaluation metrics\n",
    "print(\"Accuracy:\", accuracy)\n",
    "print(\"F1 Score:\", f1)\n",
    "print(\"Recall Score:\", recall)\n",
    "print(\"Confusion Matrix:\\n\", conf_matrix)\n",
    "print(\"Classification Report:\\n\", classification_report)"
   ]
  },
  {
   "cell_type": "code",
   "execution_count": 30,
   "metadata": {},
   "outputs": [
    {
     "ename": "TypeError",
     "evalue": "'str' object is not callable",
     "output_type": "error",
     "traceback": [
      "\u001b[0;31m---------------------------------------------------------------------------\u001b[0m",
      "\u001b[0;31mTypeError\u001b[0m                                 Traceback (most recent call last)",
      "Cell \u001b[0;32mIn [30], line 27\u001b[0m\n\u001b[1;32m     25\u001b[0m     cm_fold \u001b[38;5;241m=\u001b[39m confusion_matrix(y_val_fold, y_pred_fold)\n\u001b[1;32m     26\u001b[0m     confusion_matrices\u001b[38;5;241m.\u001b[39mappend(cm_fold)\n\u001b[0;32m---> 27\u001b[0m     report \u001b[38;5;241m=\u001b[39m \u001b[43mclassification_report\u001b[49m\u001b[43m(\u001b[49m\u001b[43my_val_fold\u001b[49m\u001b[43m,\u001b[49m\u001b[43m \u001b[49m\u001b[43my_pred_fold\u001b[49m\u001b[43m)\u001b[49m\n\u001b[1;32m     29\u001b[0m     reports\u001b[38;5;241m.\u001b[39mappend(report)\n\u001b[1;32m     31\u001b[0m \u001b[38;5;66;03m# Print confusion matrices for each fold\u001b[39;00m\n",
      "\u001b[0;31mTypeError\u001b[0m: 'str' object is not callable"
     ]
    }
   ],
   "source": [
    "# Reset the index of the DataFrame\n",
    "X_train.reset_index(drop=True, inplace=True)\n",
    "y_train.reset_index(drop=True, inplace=True)\n",
    "num_folds = 5\n",
    "\n",
    "# Initialize KFold cross-validation iterator\n",
    "kf = KFold(n_splits=num_folds, shuffle=True, random_state=42)\n",
    "\n",
    "# Create an empty list to store confusion matrices for each fold\n",
    "confusion_matrices = []\n",
    "reports = []\n",
    "\n",
    "# Perform k-fold cross-validation\n",
    "for train_index, test_index in kf.split(X_train):\n",
    "    X_train_fold, X_val_fold = X_train.iloc[train_index], X_train.iloc[test_index]\n",
    "    y_train_fold, y_val_fold = y_train.iloc[train_index], y_train.iloc[test_index]\n",
    "\n",
    "    # Fit the classifier on the training fold\n",
    "    dt.fit(X_train_fold, y_train_fold)\n",
    "\n",
    "    # Predict on the validation fold\n",
    "    y_pred_fold = dt.predict(X_val_fold)\n",
    "\n",
    "    # Calculate and store the confusion matrix for the fold\n",
    "    cm_fold = confusion_matrix(y_val_fold, y_pred_fold)\n",
    "    confusion_matrices.append(cm_fold)\n",
    "    report = classification_report(y_val_fold, y_pred_fold)\n",
    "\n",
    "    reports.append(report)\n",
    "\n",
    "# Print confusion matrices for each fold\n",
    "\"\"\" for i, cm in enumerate(confusion_matrices):\n",
    "    print(f\"Confusion matrix for fold {i + 1}:\")\n",
    "    print(cm)\n",
    "    print() \"\"\"\n",
    "print(len(reports))\n",
    "for i, r in enumerate(reports):\n",
    "    print(f\"Classification report for fold {i + 1}:\")\n",
    "    print(r)\n",
    "    print()\n",
    "\n",
    "# hey"
   ]
  }
 ],
 "metadata": {
  "kernelspec": {
   "display_name": "Python 3",
   "language": "python",
   "name": "python3"
  },
  "language_info": {
   "codemirror_mode": {
    "name": "ipython",
    "version": 3
   },
   "file_extension": ".py",
   "mimetype": "text/x-python",
   "name": "python",
   "nbconvert_exporter": "python",
   "pygments_lexer": "ipython3",
   "version": "3.11.5"
  }
 },
 "nbformat": 4,
 "nbformat_minor": 2
}
