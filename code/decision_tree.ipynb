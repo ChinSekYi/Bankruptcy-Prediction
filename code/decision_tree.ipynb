{
 "cells": [
  {
   "cell_type": "code",
   "execution_count": 24,
   "metadata": {},
   "outputs": [
    {
     "ename": "ModuleNotFoundError",
     "evalue": "No module named 'dtreeviz'",
     "output_type": "error",
     "traceback": [
      "\u001b[1;31m---------------------------------------------------------------------------\u001b[0m",
      "\u001b[1;31mModuleNotFoundError\u001b[0m                       Traceback (most recent call last)",
      "Cell \u001b[1;32mIn[24], line 8\u001b[0m\n\u001b[0;32m      6\u001b[0m \u001b[38;5;28;01mfrom\u001b[39;00m \u001b[38;5;21;01mscipy\u001b[39;00m\u001b[38;5;21;01m.\u001b[39;00m\u001b[38;5;21;01mio\u001b[39;00m \u001b[38;5;28;01mimport\u001b[39;00m arff\n\u001b[0;32m      7\u001b[0m \u001b[38;5;28;01mimport\u001b[39;00m \u001b[38;5;21;01mcsv_processing\u001b[39;00m \u001b[38;5;28;01mas\u001b[39;00m \u001b[38;5;21;01mdp\u001b[39;00m\n\u001b[1;32m----> 8\u001b[0m \u001b[38;5;28;01mimport\u001b[39;00m \u001b[38;5;21;01mdtreeviz\u001b[39;00m \u001b[38;5;28;01mas\u001b[39;00m \u001b[38;5;21;01mdt\u001b[39;00m\n\u001b[0;32m     10\u001b[0m \u001b[38;5;28;01mfrom\u001b[39;00m \u001b[38;5;21;01msklearn\u001b[39;00m\u001b[38;5;21;01m.\u001b[39;00m\u001b[38;5;21;01mtree\u001b[39;00m \u001b[38;5;28;01mimport\u001b[39;00m DecisionTreeClassifier, plot_tree\n\u001b[0;32m     11\u001b[0m \u001b[38;5;28;01mfrom\u001b[39;00m \u001b[38;5;21;01msklearn\u001b[39;00m\u001b[38;5;21;01m.\u001b[39;00m\u001b[38;5;21;01mensemble\u001b[39;00m \u001b[38;5;28;01mimport\u001b[39;00m RandomForestClassifier, GradientBoostingClassifier\n",
      "\u001b[1;31mModuleNotFoundError\u001b[0m: No module named 'dtreeviz'"
     ]
    }
   ],
   "source": [
    "import numpy as np\n",
    "import sklearn\n",
    "import pandas as pd\n",
    "import matplotlib.pyplot as plt\n",
    "import seaborn as sns\n",
    "from scipy.io import arff\n",
    "import csv_processing as dp\n",
    "import dtreeviz as dt\n",
    "\n",
    "from sklearn.tree import DecisionTreeClassifier, plot_tree\n",
    "from sklearn.ensemble import RandomForestClassifier, GradientBoostingClassifier\n",
    "from sklearn.model_selection import train_test_split, KFold, cross_val_score, cross_validate\n",
    "from sklearn.metrics import accuracy_score, f1_score, recall_score, \\\n",
    "        confusion_matrix, classification_report, precision_score\n",
    "#import dtreeviz"
   ]
  },
  {
   "cell_type": "code",
   "execution_count": 9,
   "metadata": {},
   "outputs": [],
   "source": [
    "df = pd.read_csv(\"../data/3year.csv\")\n",
    "X_train, X_test, y_train, y_test = dp.pre_process(df)"
   ]
  },
  {
   "cell_type": "code",
   "execution_count": 10,
   "metadata": {},
   "outputs": [],
   "source": [
    "#X_train, X_test, y_train, y_test = dp.get_train_test(df)"
   ]
  },
  {
   "cell_type": "code",
   "execution_count": 11,
   "metadata": {},
   "outputs": [
    {
     "name": "stdout",
     "output_type": "stream",
     "text": [
      "Accuracy: 0.854649317676928\n",
      "F1 Score: 0.14869888475836432\n",
      "Recall Score: 0.29850746268656714\n",
      "Confusion Matrix:\n",
      " [[2653  364]\n",
      " [  94   40]]\n",
      "Classification Report:\n",
      "               precision    recall  f1-score   support\n",
      "\n",
      "           0       0.97      0.88      0.92      3017\n",
      "           1       0.10      0.30      0.15       134\n",
      "\n",
      "    accuracy                           0.85      3151\n",
      "   macro avg       0.53      0.59      0.53      3151\n",
      "weighted avg       0.93      0.85      0.89      3151\n",
      "\n"
     ]
    }
   ],
   "source": [
    "dt = DecisionTreeClassifier(random_state=42)\n",
    "dt.fit(X_train, y_train)\n",
    "\n",
    "y_pred = dt.predict(X_test)\n",
    "\n",
    "accuracy = accuracy_score(y_test, y_pred)\n",
    "f1 = f1_score(y_test, y_pred)\n",
    "recall = recall_score(y_test, y_pred)\n",
    "conf_matrix = confusion_matrix(y_test, y_pred)\n",
    "class_report = classification_report(y_test, y_pred)\n",
    "\n",
    "# Print evaluation metrics\n",
    "print(\"Accuracy:\", accuracy)\n",
    "print(\"F1 Score:\", f1)\n",
    "print(\"Recall Score:\", recall)\n",
    "print(\"Confusion Matrix:\\n\", conf_matrix)\n",
    "print(\"Classification Report:\\n\", class_report)"
   ]
  },
  {
   "cell_type": "code",
   "execution_count": 17,
   "metadata": {},
   "outputs": [
    {
     "name": "stdout",
     "output_type": "stream",
     "text": [
      "Classification report for fold 1:\n",
      "              precision    recall  f1-score   support\n",
      "\n",
      "           0       0.91      0.87      0.89      1388\n",
      "           1       0.88      0.91      0.89      1408\n",
      "\n",
      "    accuracy                           0.89      2796\n",
      "   macro avg       0.89      0.89      0.89      2796\n",
      "weighted avg       0.89      0.89      0.89      2796\n",
      "\n",
      "\n",
      "Classification report for fold 2:\n",
      "              precision    recall  f1-score   support\n",
      "\n",
      "           0       0.91      0.87      0.89      1383\n",
      "           1       0.88      0.92      0.90      1413\n",
      "\n",
      "    accuracy                           0.89      2796\n",
      "   macro avg       0.89      0.89      0.89      2796\n",
      "weighted avg       0.89      0.89      0.89      2796\n",
      "\n",
      "\n",
      "Classification report for fold 3:\n",
      "              precision    recall  f1-score   support\n",
      "\n",
      "           0       0.91      0.86      0.88      1422\n",
      "           1       0.86      0.91      0.89      1374\n",
      "\n",
      "    accuracy                           0.88      2796\n",
      "   macro avg       0.89      0.88      0.88      2796\n",
      "weighted avg       0.89      0.88      0.88      2796\n",
      "\n",
      "\n",
      "Classification report for fold 4:\n",
      "              precision    recall  f1-score   support\n",
      "\n",
      "           0       0.90      0.86      0.88      1414\n",
      "           1       0.86      0.90      0.88      1381\n",
      "\n",
      "    accuracy                           0.88      2795\n",
      "   macro avg       0.88      0.88      0.88      2795\n",
      "weighted avg       0.88      0.88      0.88      2795\n",
      "\n",
      "\n",
      "Classification report for fold 5:\n",
      "              precision    recall  f1-score   support\n",
      "\n",
      "           0       0.91      0.86      0.88      1382\n",
      "           1       0.87      0.92      0.89      1413\n",
      "\n",
      "    accuracy                           0.89      2795\n",
      "   macro avg       0.89      0.89      0.89      2795\n",
      "weighted avg       0.89      0.89      0.89      2795\n",
      "\n",
      "\n"
     ]
    }
   ],
   "source": [
    "# Reset the index of the DataFrame\n",
    "X_train.reset_index(drop=True, inplace=True)\n",
    "y_train.reset_index(drop=True, inplace=True)\n",
    "num_folds = 5\n",
    "\n",
    "# Initialize KFold cross-validation iterator\n",
    "kf = KFold(n_splits=num_folds, shuffle=True, random_state=42)\n",
    "\n",
    "# Create an empty list to store confusion matrices for each fold\n",
    "confusion_matrices = []\n",
    "reports = []\n",
    "\n",
    "# Perform k-fold cross-validation\n",
    "for train_index, test_index in kf.split(X_train):\n",
    "    X_train_fold, X_val_fold = X_train.iloc[train_index], X_train.iloc[test_index]\n",
    "    y_train_fold, y_val_fold = y_train.iloc[train_index], y_train.iloc[test_index]\n",
    "    \n",
    "    # Fit the classifier on the training fold\n",
    "    dt.fit(X_train_fold, y_train_fold)\n",
    "    \n",
    "    # Predict on the validation fold\n",
    "    y_pred_fold = dt.predict(X_val_fold)\n",
    "    \n",
    "    # Calculate and store the confusion matrix for the fold\n",
    "    cm_fold = confusion_matrix(y_val_fold, y_pred_fold)\n",
    "    confusion_matrices.append(cm_fold)\n",
    "    report = classification_report(y_val_fold, y_pred_fold)\n",
    "\n",
    "    reports.append(report)\n",
    "\n",
    "    \"\"\" plt.figure(figsize=(40,10))\n",
    "    plot_tree(dt, feature_names=X_train.columns, class_names=[\"Class 0\", \"Class 1\"], filled=True,\n",
    "              impurity=False, fontsize=10, rounded=True, max_depth=3)\n",
    "    plt.show() \"\"\"\n",
    "\n",
    "    \"\"\" viz = dtreeviz(dt,\n",
    "               X_train.values,\n",
    "               y_train.values,\n",
    "               target_name='Class',\n",
    "               feature_names=X_train.columns,\n",
    "               class_names=[\"Class 0\", \"Class 1\"]) \"\"\"\n",
    "\n",
    "# Print confusion matrices for each fold\n",
    "\"\"\" for i, cm in enumerate(confusion_matrices):\n",
    "    print(f\"Confusion matrix for fold {i + 1}:\")\n",
    "    print(cm)\n",
    "    print() \"\"\"\n",
    "#print(len(reports))\n",
    "for i, r in enumerate(reports):\n",
    "    print(f\"Classification report for fold {i + 1}:\")\n",
    "    print(r)\n",
    "    print()\n",
    "\n",
    "#hey\n",
    "#hey\n"
   ]
  },
  {
   "cell_type": "code",
   "execution_count": 23,
   "metadata": {},
   "outputs": [
    {
     "name": "stdout",
     "output_type": "stream",
     "text": [
      "Cross-validation scores:\n",
      "fit_time: 0.6567238807678223\n",
      "score_time: 0.014840984344482422\n",
      "test_accuracy: 0.8876801768946695\n",
      "test_f1: 0.8903061311195881\n",
      "test_recall: 0.9120994459258889\n",
      "test_precision: 0.8695500399438508\n",
      "test_roc_auc: 0.8876762235118768\n"
     ]
    }
   ],
   "source": [
    "scoring = ['accuracy', 'f1', 'recall', 'precision', 'roc_auc']\n",
    "kf = KFold(n_splits=num_folds, shuffle=True, random_state=42)\n",
    "dt = DecisionTreeClassifier(random_state=42)\n",
    "scores = cross_validate(dt, X_train, y_train, cv=kf, scoring=scoring)\n",
    "\n",
    "print(\"Cross-validation scores:\")\n",
    "for metric, values in scores.items():\n",
    "    print(f\"{metric}: {np.mean(values)}\")\n"
   ]
  },
  {
   "cell_type": "code",
   "execution_count": 13,
   "metadata": {},
   "outputs": [
    {
     "name": "stderr",
     "output_type": "stream",
     "text": [
      "C:\\Users\\ch8765\\AppData\\Local\\Packages\\PythonSoftwareFoundation.Python.3.11_qbz5n2kfra8p0\\LocalCache\\local-packages\\Python311\\site-packages\\sklearn\\ensemble\\_gb.py:424: DataConversionWarning: A column-vector y was passed when a 1d array was expected. Please change the shape of y to (n_samples, ), for example using ravel().\n",
      "  y = column_or_1d(y, warn=True)\n"
     ]
    },
    {
     "name": "stdout",
     "output_type": "stream",
     "text": [
      "Accuracy: 0.780387178673437\n",
      "F1 Score: 0.18588235294117647\n",
      "Recall Score: 0.5895522388059702\n",
      "Confusion Matrix:\n",
      " [[2380  637]\n",
      " [  55   79]]\n",
      "Classification Report:\n",
      "               precision    recall  f1-score   support\n",
      "\n",
      "           0       0.98      0.79      0.87      3017\n",
      "           1       0.11      0.59      0.19       134\n",
      "\n",
      "    accuracy                           0.78      3151\n",
      "   macro avg       0.54      0.69      0.53      3151\n",
      "weighted avg       0.94      0.78      0.84      3151\n",
      "\n"
     ]
    }
   ],
   "source": [
    "gb_clf = GradientBoostingClassifier(random_state=42)\n",
    "gb_clf.fit(X_train, y_train)\n",
    "\n",
    "y_pred = gb_clf.predict(X_test)\n",
    "\n",
    "accuracy = accuracy_score(y_test, y_pred)\n",
    "f1 = f1_score(y_test, y_pred)\n",
    "recall = recall_score(y_test, y_pred)\n",
    "conf_matrix = confusion_matrix(y_test, y_pred)\n",
    "class_report = classification_report(y_test, y_pred)\n",
    "\n",
    "# Print evaluation metrics\n",
    "print(\"Accuracy:\", accuracy)\n",
    "print(\"F1 Score:\", f1)\n",
    "print(\"Recall Score:\", recall)\n",
    "print(\"Confusion Matrix:\\n\", conf_matrix)\n",
    "print(\"Classification Report:\\n\", class_report)\n",
    "\n"
   ]
  },
  {
   "cell_type": "code",
   "execution_count": 16,
   "metadata": {},
   "outputs": [
    {
     "name": "stderr",
     "output_type": "stream",
     "text": [
      "C:\\Users\\ch8765\\AppData\\Local\\Packages\\PythonSoftwareFoundation.Python.3.11_qbz5n2kfra8p0\\LocalCache\\local-packages\\Python311\\site-packages\\sklearn\\ensemble\\_gb.py:424: DataConversionWarning: A column-vector y was passed when a 1d array was expected. Please change the shape of y to (n_samples, ), for example using ravel().\n",
      "  y = column_or_1d(y, warn=True)\n",
      "C:\\Users\\ch8765\\AppData\\Local\\Packages\\PythonSoftwareFoundation.Python.3.11_qbz5n2kfra8p0\\LocalCache\\local-packages\\Python311\\site-packages\\sklearn\\ensemble\\_gb.py:424: DataConversionWarning: A column-vector y was passed when a 1d array was expected. Please change the shape of y to (n_samples, ), for example using ravel().\n",
      "  y = column_or_1d(y, warn=True)\n",
      "C:\\Users\\ch8765\\AppData\\Local\\Packages\\PythonSoftwareFoundation.Python.3.11_qbz5n2kfra8p0\\LocalCache\\local-packages\\Python311\\site-packages\\sklearn\\ensemble\\_gb.py:424: DataConversionWarning: A column-vector y was passed when a 1d array was expected. Please change the shape of y to (n_samples, ), for example using ravel().\n",
      "  y = column_or_1d(y, warn=True)\n",
      "C:\\Users\\ch8765\\AppData\\Local\\Packages\\PythonSoftwareFoundation.Python.3.11_qbz5n2kfra8p0\\LocalCache\\local-packages\\Python311\\site-packages\\sklearn\\ensemble\\_gb.py:424: DataConversionWarning: A column-vector y was passed when a 1d array was expected. Please change the shape of y to (n_samples, ), for example using ravel().\n",
      "  y = column_or_1d(y, warn=True)\n",
      "C:\\Users\\ch8765\\AppData\\Local\\Packages\\PythonSoftwareFoundation.Python.3.11_qbz5n2kfra8p0\\LocalCache\\local-packages\\Python311\\site-packages\\sklearn\\ensemble\\_gb.py:424: DataConversionWarning: A column-vector y was passed when a 1d array was expected. Please change the shape of y to (n_samples, ), for example using ravel().\n",
      "  y = column_or_1d(y, warn=True)\n"
     ]
    },
    {
     "name": "stdout",
     "output_type": "stream",
     "text": [
      "Cross-Validation Scores: [0.81151645 0.82260372 0.83655222 0.83255814 0.83864043]\n",
      "Mean CV Accuracy: 0.8283741916000625\n"
     ]
    },
    {
     "name": "stderr",
     "output_type": "stream",
     "text": [
      "C:\\Users\\ch8765\\AppData\\Local\\Packages\\PythonSoftwareFoundation.Python.3.11_qbz5n2kfra8p0\\LocalCache\\local-packages\\Python311\\site-packages\\sklearn\\ensemble\\_gb.py:424: DataConversionWarning: A column-vector y was passed when a 1d array was expected. Please change the shape of y to (n_samples, ), for example using ravel().\n",
      "  y = column_or_1d(y, warn=True)\n"
     ]
    },
    {
     "name": "stdout",
     "output_type": "stream",
     "text": [
      "\n",
      "Evaluation Metrics on Test Data:\n",
      "Accuracy: 0.780387178673437\n",
      "F1 Score: 0.18588235294117647\n",
      "Recall Score: 0.5895522388059702\n",
      "Confusion Matrix:\n",
      " [[2380  637]\n",
      " [  55   79]]\n",
      "Classification Report:\n",
      "               precision    recall  f1-score   support\n",
      "\n",
      "           0       0.98      0.79      0.87      3017\n",
      "           1       0.11      0.59      0.19       134\n",
      "\n",
      "    accuracy                           0.78      3151\n",
      "   macro avg       0.54      0.69      0.53      3151\n",
      "weighted avg       0.94      0.78      0.84      3151\n",
      "\n"
     ]
    }
   ],
   "source": [
    "gb_clf = GradientBoostingClassifier(random_state=42)\n",
    "num_folds = 5\n",
    "scoring = 'accuracy'\n",
    "\n",
    "cv_scores = cross_val_score(gb_clf, X_train, y_train, cv=num_folds, scoring=scoring)\n",
    "print(\"Cross-Validation Scores:\", cv_scores)\n",
    "print(\"Mean CV Accuracy:\", cv_scores.mean())\n",
    "\n",
    "gb_clf.fit(X_train, y_train)\n",
    "y_pred = gb_clf.predict(X_test)\n",
    "\n",
    "accuracy = accuracy_score(y_test, y_pred)\n",
    "f1 = f1_score(y_test, y_pred)\n",
    "recall = recall_score(y_test, y_pred)\n",
    "conf_matrix = confusion_matrix(y_test, y_pred)\n",
    "class_report = classification_report(y_test, y_pred)\n",
    "\n",
    "print(\"\\nEvaluation Metrics on Test Data:\")\n",
    "print(\"Accuracy:\", accuracy)\n",
    "print(\"F1 Score:\", f1)\n",
    "print(\"Recall Score:\", recall)\n",
    "print(\"Confusion Matrix:\\n\", conf_matrix)\n",
    "print(\"Classification Report:\\n\", class_report)"
   ]
  }
 ],
 "metadata": {
  "kernelspec": {
   "display_name": "Python 3",
   "language": "python",
   "name": "python3"
  },
  "language_info": {
   "codemirror_mode": {
    "name": "ipython",
    "version": 3
   },
   "file_extension": ".py",
   "mimetype": "text/x-python",
   "name": "python",
   "nbconvert_exporter": "python",
   "pygments_lexer": "ipython3",
   "version": "3.11.9"
  }
 },
 "nbformat": 4,
 "nbformat_minor": 2
}
