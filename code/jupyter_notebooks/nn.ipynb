{
 "cells": [
  {
   "cell_type": "code",
   "execution_count": 9,
   "metadata": {},
   "outputs": [
    {
     "ename": "ModuleNotFoundError",
     "evalue": "No module named 'torch'",
     "output_type": "error",
     "traceback": [
      "\u001b[0;31m---------------------------------------------------------------------------\u001b[0m",
      "\u001b[0;31mModuleNotFoundError\u001b[0m                       Traceback (most recent call last)",
      "Cell \u001b[0;32mIn [9], line 3\u001b[0m\n\u001b[1;32m      1\u001b[0m \u001b[38;5;28;01mimport\u001b[39;00m \u001b[38;5;21;01mmatplotlib\u001b[39;00m\u001b[38;5;21;01m.\u001b[39;00m\u001b[38;5;21;01mpyplot\u001b[39;00m \u001b[38;5;28;01mas\u001b[39;00m \u001b[38;5;21;01mplt\u001b[39;00m\n\u001b[1;32m      2\u001b[0m \u001b[38;5;28;01mimport\u001b[39;00m \u001b[38;5;21;01mnumpy\u001b[39;00m \u001b[38;5;28;01mas\u001b[39;00m \u001b[38;5;21;01mnp\u001b[39;00m\n\u001b[0;32m----> 3\u001b[0m \u001b[38;5;28;01mimport\u001b[39;00m \u001b[38;5;21;01mtorch\u001b[39;00m\n\u001b[1;32m      5\u001b[0m torch\u001b[38;5;241m.\u001b[39mcuda\u001b[38;5;241m.\u001b[39mis_available()\n\u001b[1;32m      7\u001b[0m \u001b[38;5;28;01mimport\u001b[39;00m \u001b[38;5;21;01mtorchvision\u001b[39;00m \n",
      "\u001b[0;31mModuleNotFoundError\u001b[0m: No module named 'torch'"
     ]
    }
   ],
   "source": [
    "import matplotlib.pyplot as plt\n",
    "import numpy as np\n",
    "import torch\n",
    "\n",
    "torch.cuda.is_available()\n",
    "\n",
    "import torchvision \n",
    "import torchvision.transforms as transforms \n",
    "import torch.nn as nn \n",
    "import torch.nn.functional as F \n",
    "import torch.optim as optim \n",
    "\n",
    "\n",
    "batch_size = 4 \n",
    "num_workers = 2\n",
    "\n",
    " "
   ]
  },
  {
   "cell_type": "code",
   "execution_count": null,
   "metadata": {},
   "outputs": [],
   "source": [
    "class Net(nn.Module): \n",
    "\n",
    "    def __init__(self): \n",
    "\n",
    "        super(Net, self).__init__() \n",
    "\n",
    "  \n",
    "\n",
    "        self.conv1 = nn.Conv2d(3,6,kernel_size=5) \n",
    "\n",
    "        self.pool = nn.MaxPool2d(2,2)  \n",
    "\n",
    "        self.conv2 = nn.Conv2d(6,16,kernel_size=5) \n",
    "\n",
    "        self.fc1 = nn.Linear(16 * 5 * 5, 120) \n",
    "\n",
    "        self.fc2 = nn.Linear(120, 84) \n",
    "\n",
    "        self.fc3 = nn.Linear(84, 10) \n",
    "\n",
    "         \n",
    "\n",
    "    def forward(self, x): \n",
    "\n",
    "        x = self.pool(F.relu(self.conv1(x))) \n",
    "\n",
    "        x = self.pool(F.relu(self.conv2(x))) \n",
    "\n",
    "        x = x.view(-1, 16 * 5* 5) #to reshape tensor for our fc # or use x.flatten(1) \n",
    "\n",
    "        x = F.relu(self.fc1(x)) \n",
    "\n",
    "        x = F.relu(self.fc2(x)) \n",
    "\n",
    "        x = self.fc3(x) \n",
    "\n",
    "        return x  "
   ]
  }
 ],
 "metadata": {
  "kernelspec": {
   "display_name": "Python 3",
   "language": "python",
   "name": "python3"
  },
  "language_info": {
   "codemirror_mode": {
    "name": "ipython",
    "version": 3
   },
   "file_extension": ".py",
   "mimetype": "text/x-python",
   "name": "python",
   "nbconvert_exporter": "python",
   "pygments_lexer": "ipython3",
   "version": "3.11.5"
  }
 },
 "nbformat": 4,
 "nbformat_minor": 2
}
