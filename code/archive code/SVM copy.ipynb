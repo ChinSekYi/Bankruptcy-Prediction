{
 "cells": [
  {
   "cell_type": "code",
   "execution_count": 7,
   "metadata": {},
   "outputs": [],
   "source": [
    "import matplotlib.pyplot as plt\n",
    "import numpy as np\n",
    "import pandas as pd\n",
    "import seaborn as sns\n",
    "from sklearn.svm import SVC\n",
    "from sklearn.model_selection import GridSearchCV\n",
    "from scipy.io import arff\n",
    "import data_processing as dp\n",
    "import warnings\n",
    "from sklearn.metrics import (\n",
    "    accuracy_score,\n",
    "    f1_score,\n",
    "    recall_score,\n",
    "    confusion_matrix,\n",
    "    classification_report,\n",
    "    precision_score,\n",
    ")\n",
    "\n",
    "warnings.filterwarnings(\"ignore\")\n",
    "\n",
    "data = arff.loadarff(\"../../data/3year.arff\")\n",
    "df = pd.DataFrame(data[0])\n",
    "df_origin = df.copy()"
   ]
  },
  {
   "cell_type": "code",
   "execution_count": 8,
   "metadata": {},
   "outputs": [],
   "source": [
    "def SVM_model(*args):\n",
    "    X_train = args[0]\n",
    "    X_test = args[1]\n",
    "    y_train = args[2]\n",
    "    y_test = args[3]\n",
    "\n",
    "    # Reset indices to ensure alignment\n",
    "    X_train.reset_index(drop=True, inplace=True)\n",
    "    y_train.reset_index(drop=True, inplace=True)\n",
    "\n",
    "    # Training the SVM model\n",
    "    svm_model = SVC(\n",
    "        kernel=\"linear\"\n",
    "    )  # You can choose different kernels based on your data\n",
    "    svm_model.fit(X_train, y_train)\n",
    "\n",
    "    # Predictions on the testing set\n",
    "    y_pred_train = svm_model.predict(X_train)\n",
    "    y_pred_test = svm_model.predict(X_test)\n",
    "\n",
    "    # Evaluating the model\n",
    "    train_accuracy = accuracy_score(y_train, y_pred_train)\n",
    "    test_accuracy = accuracy_score(y_test, y_pred_test)\n",
    "    precision_score_ = precision_score(y_test, y_pred_test)\n",
    "    recall_score_ = recall_score(y_test, y_pred_test)\n",
    "    f1_score_ = f1_score(y_test, y_pred_test)\n",
    "\n",
    "    print(classification_report(y_test, y_pred_test))\n",
    "    print(f\"precision_score: {precision_score_}\")\n",
    "    print(f\"recall_score: {recall_score_}\")\n",
    "    print(f\"train_accuracy: {train_accuracy}\")\n",
    "    print(f\"test_accuracy: {test_accuracy}\")\n",
    "    print(f\"f1score: {f1_score_}\")\n",
    "\n",
    "    return train_accuracy, test_accuracy, y_pred_test"
   ]
  },
  {
   "cell_type": "code",
   "execution_count": 9,
   "metadata": {},
   "outputs": [
    {
     "name": "stdout",
     "output_type": "stream",
     "text": [
      "X_train.shape: (13978, 30)\n"
     ]
    }
   ],
   "source": [
    "train_test_dataset = dp.pre_process(df)  # with SMOTE\n",
    "print(f\"X_train.shape: {train_test_dataset[0].shape}\")\n",
    "\n",
    "# previously checked that best k is 25\n",
    "best_train_test_dataset = dp.get_df_with_top_k_features(25, *train_test_dataset)"
   ]
  },
  {
   "cell_type": "markdown",
   "metadata": {},
   "source": [
    "To Do:\n",
    "- check linear separability"
   ]
  },
  {
   "cell_type": "code",
   "execution_count": 10,
   "metadata": {},
   "outputs": [
    {
     "name": "stdout",
     "output_type": "stream",
     "text": [
      "              precision    recall  f1-score   support\n",
      "\n",
      "           0       0.96      0.58      0.72      3017\n",
      "           1       0.05      0.47      0.09       134\n",
      "\n",
      "    accuracy                           0.57      3151\n",
      "   macro avg       0.50      0.52      0.40      3151\n",
      "weighted avg       0.92      0.57      0.69      3151\n",
      "\n",
      "precision_score: 0.04708520179372197\n",
      "recall_score: 0.4701492537313433\n",
      "train_accuracy: 0.537201316354271\n",
      "test_accuracy: 0.5728340209457315\n",
      "f1score: 0.08559782608695651\n",
      "0.537201316354271\n",
      "0.5728340209457315\n"
     ]
    }
   ],
   "source": [
    "train_accuracy, test_accuracy, y_pred_test = SVM_model(*train_test_dataset)\n",
    "print(train_accuracy)\n",
    "print(test_accuracy)\n",
    "\n",
    "# kernel = rbf , [train, test] = [0.5304764630133066, 0.5147572199301809]\n",
    "# kernel = linear, [train, test] = [0.537201316354271, 0.5728340209457315]"
   ]
  },
  {
   "cell_type": "code",
   "execution_count": 11,
   "metadata": {},
   "outputs": [],
   "source": [
    "X_train, X_test, y_train, y_test = best_train_test_dataset\n",
    "conf_matrix = confusion_matrix(y_test, y_test)"
   ]
  },
  {
   "cell_type": "markdown",
   "metadata": {},
   "source": [
    "GridSearchCV\n",
    "https://www.geeksforgeeks.org/svm-hyperparameter-tuning-using-gridsearchcv-ml/"
   ]
  },
  {
   "cell_type": "code",
   "execution_count": 12,
   "metadata": {},
   "outputs": [
    {
     "name": "stdout",
     "output_type": "stream",
     "text": [
      "Fitting 3 folds for each of 25 candidates, totalling 75 fits\n",
      "[CV 1/3] END ........C=0.1, gamma=1, kernel=rbf;, score=0.519 total time=  11.0s\n",
      "[CV 2/3] END ........C=0.1, gamma=1, kernel=rbf;, score=0.526 total time=  10.8s\n",
      "[CV 3/3] END ........C=0.1, gamma=1, kernel=rbf;, score=0.517 total time=   9.8s\n",
      "[CV 1/3] END ......C=0.1, gamma=0.1, kernel=rbf;, score=0.524 total time=  10.2s\n",
      "[CV 2/3] END ......C=0.1, gamma=0.1, kernel=rbf;, score=0.500 total time=  10.9s\n",
      "[CV 3/3] END ......C=0.1, gamma=0.1, kernel=rbf;, score=0.500 total time=  10.1s\n",
      "[CV 1/3] END .....C=0.1, gamma=0.01, kernel=rbf;, score=0.530 total time=   9.9s\n",
      "[CV 2/3] END .....C=0.1, gamma=0.01, kernel=rbf;, score=0.500 total time=   9.9s\n",
      "[CV 3/3] END .....C=0.1, gamma=0.01, kernel=rbf;, score=0.500 total time=   9.9s\n",
      "[CV 1/3] END ....C=0.1, gamma=0.001, kernel=rbf;, score=0.529 total time=   9.7s\n",
      "[CV 2/3] END ....C=0.1, gamma=0.001, kernel=rbf;, score=0.500 total time=   9.7s\n",
      "[CV 3/3] END ....C=0.1, gamma=0.001, kernel=rbf;, score=0.500 total time=   9.9s\n",
      "[CV 1/3] END ...C=0.1, gamma=0.0001, kernel=rbf;, score=0.529 total time=   9.7s\n",
      "[CV 2/3] END ...C=0.1, gamma=0.0001, kernel=rbf;, score=0.500 total time=  10.9s\n",
      "[CV 3/3] END ...C=0.1, gamma=0.0001, kernel=rbf;, score=0.500 total time=  11.4s\n",
      "[CV 1/3] END ..........C=1, gamma=1, kernel=rbf;, score=0.557 total time=   9.9s\n",
      "[CV 2/3] END ..........C=1, gamma=1, kernel=rbf;, score=0.555 total time=   9.9s\n",
      "[CV 3/3] END ..........C=1, gamma=1, kernel=rbf;, score=0.553 total time=   9.9s\n",
      "[CV 1/3] END ........C=1, gamma=0.1, kernel=rbf;, score=0.529 total time=  10.2s\n",
      "[CV 2/3] END ........C=1, gamma=0.1, kernel=rbf;, score=0.533 total time=  10.7s\n",
      "[CV 3/3] END ........C=1, gamma=0.1, kernel=rbf;, score=0.524 total time=  11.1s\n",
      "[CV 1/3] END .......C=1, gamma=0.01, kernel=rbf;, score=0.530 total time=  10.4s\n",
      "[CV 2/3] END .......C=1, gamma=0.01, kernel=rbf;, score=0.500 total time=  10.2s\n",
      "[CV 3/3] END .......C=1, gamma=0.01, kernel=rbf;, score=0.500 total time=  10.7s\n",
      "[CV 1/3] END ......C=1, gamma=0.001, kernel=rbf;, score=0.529 total time=  10.6s\n",
      "[CV 2/3] END ......C=1, gamma=0.001, kernel=rbf;, score=0.500 total time=  10.7s\n",
      "[CV 3/3] END ......C=1, gamma=0.001, kernel=rbf;, score=0.500 total time=  10.9s\n",
      "[CV 1/3] END .....C=1, gamma=0.0001, kernel=rbf;, score=0.529 total time=   9.9s\n",
      "[CV 2/3] END .....C=1, gamma=0.0001, kernel=rbf;, score=0.500 total time=  10.0s\n",
      "[CV 3/3] END .....C=1, gamma=0.0001, kernel=rbf;, score=0.500 total time=  10.3s\n",
      "[CV 1/3] END .........C=10, gamma=1, kernel=rbf;, score=0.587 total time=   9.4s\n",
      "[CV 2/3] END .........C=10, gamma=1, kernel=rbf;, score=0.587 total time=   9.6s\n",
      "[CV 3/3] END .........C=10, gamma=1, kernel=rbf;, score=0.583 total time=   9.7s\n",
      "[CV 1/3] END .......C=10, gamma=0.1, kernel=rbf;, score=0.531 total time=  10.1s\n",
      "[CV 2/3] END .......C=10, gamma=0.1, kernel=rbf;, score=0.540 total time=  10.1s\n",
      "[CV 3/3] END .......C=10, gamma=0.1, kernel=rbf;, score=0.530 total time=  10.7s\n",
      "[CV 1/3] END ......C=10, gamma=0.01, kernel=rbf;, score=0.531 total time=  10.6s\n",
      "[CV 2/3] END ......C=10, gamma=0.01, kernel=rbf;, score=0.533 total time=  10.0s\n",
      "[CV 3/3] END ......C=10, gamma=0.01, kernel=rbf;, score=0.525 total time=  10.6s\n",
      "[CV 1/3] END .....C=10, gamma=0.001, kernel=rbf;, score=0.529 total time=  10.6s\n",
      "[CV 2/3] END .....C=10, gamma=0.001, kernel=rbf;, score=0.500 total time=  10.9s\n",
      "[CV 3/3] END .....C=10, gamma=0.001, kernel=rbf;, score=0.499 total time=  10.3s\n",
      "[CV 1/3] END ....C=10, gamma=0.0001, kernel=rbf;, score=0.529 total time=  10.5s\n",
      "[CV 2/3] END ....C=10, gamma=0.0001, kernel=rbf;, score=0.500 total time=  10.6s\n",
      "[CV 3/3] END ....C=10, gamma=0.0001, kernel=rbf;, score=0.500 total time=  10.9s\n",
      "[CV 1/3] END ........C=100, gamma=1, kernel=rbf;, score=0.640 total time=  10.2s\n",
      "[CV 2/3] END ........C=100, gamma=1, kernel=rbf;, score=0.659 total time=  10.3s\n",
      "[CV 3/3] END ........C=100, gamma=1, kernel=rbf;, score=0.647 total time=   9.8s\n",
      "[CV 1/3] END ......C=100, gamma=0.1, kernel=rbf;, score=0.598 total time=  10.3s\n",
      "[CV 2/3] END ......C=100, gamma=0.1, kernel=rbf;, score=0.603 total time=  10.2s\n",
      "[CV 3/3] END ......C=100, gamma=0.1, kernel=rbf;, score=0.592 total time=   9.8s\n",
      "[CV 1/3] END .....C=100, gamma=0.01, kernel=rbf;, score=0.538 total time=  10.1s\n",
      "[CV 2/3] END .....C=100, gamma=0.01, kernel=rbf;, score=0.540 total time=  10.3s\n",
      "[CV 3/3] END .....C=100, gamma=0.01, kernel=rbf;, score=0.531 total time=  10.9s\n",
      "[CV 1/3] END ....C=100, gamma=0.001, kernel=rbf;, score=0.530 total time=  10.5s\n",
      "[CV 2/3] END ....C=100, gamma=0.001, kernel=rbf;, score=0.533 total time=  10.8s\n",
      "[CV 3/3] END ....C=100, gamma=0.001, kernel=rbf;, score=0.525 total time=  10.9s\n",
      "[CV 1/3] END ...C=100, gamma=0.0001, kernel=rbf;, score=0.529 total time=  10.5s\n",
      "[CV 2/3] END ...C=100, gamma=0.0001, kernel=rbf;, score=0.500 total time=  11.1s\n",
      "[CV 3/3] END ...C=100, gamma=0.0001, kernel=rbf;, score=0.499 total time=  10.4s\n",
      "[CV 1/3] END .......C=1000, gamma=1, kernel=rbf;, score=0.685 total time=  10.1s\n",
      "[CV 2/3] END .......C=1000, gamma=1, kernel=rbf;, score=0.700 total time=   9.7s\n",
      "[CV 3/3] END .......C=1000, gamma=1, kernel=rbf;, score=0.693 total time=   9.5s\n",
      "[CV 1/3] END .....C=1000, gamma=0.1, kernel=rbf;, score=0.636 total time=   9.8s\n",
      "[CV 2/3] END .....C=1000, gamma=0.1, kernel=rbf;, score=0.657 total time=  10.3s\n",
      "[CV 3/3] END .....C=1000, gamma=0.1, kernel=rbf;, score=0.640 total time=  10.2s\n",
      "[CV 1/3] END ....C=1000, gamma=0.01, kernel=rbf;, score=0.606 total time=  10.0s\n",
      "[CV 2/3] END ....C=1000, gamma=0.01, kernel=rbf;, score=0.612 total time=  10.4s\n",
      "[CV 3/3] END ....C=1000, gamma=0.01, kernel=rbf;, score=0.606 total time=  10.2s\n",
      "[CV 1/3] END ...C=1000, gamma=0.001, kernel=rbf;, score=0.538 total time=  10.8s\n",
      "[CV 2/3] END ...C=1000, gamma=0.001, kernel=rbf;, score=0.540 total time=  10.8s\n",
      "[CV 3/3] END ...C=1000, gamma=0.001, kernel=rbf;, score=0.532 total time=  10.7s\n",
      "[CV 1/3] END ..C=1000, gamma=0.0001, kernel=rbf;, score=0.531 total time=  11.8s\n",
      "[CV 2/3] END ..C=1000, gamma=0.0001, kernel=rbf;, score=0.533 total time=  10.8s\n",
      "[CV 3/3] END ..C=1000, gamma=0.0001, kernel=rbf;, score=0.525 total time=  10.4s\n",
      "{'C': 1000, 'gamma': 1, 'kernel': 'rbf'}\n",
      "SVC(C=1000, gamma=1)\n"
     ]
    }
   ],
   "source": [
    "# defining parameter range\n",
    "from sklearn.model_selection import GridSearchCV\n",
    "\n",
    "param_grid = {\n",
    "    \"C\": [0.1, 1, 10, 100, 1000],\n",
    "    \"gamma\": [1, 0.1, 0.01, 0.001, 0.0001],\n",
    "    \"kernel\": [\"rbf\"],\n",
    "}\n",
    "\n",
    "grid = GridSearchCV(SVC(), param_grid, refit=True, verbose=3, cv=3)\n",
    "\n",
    "# fitting the model for grid search\n",
    "grid.fit(X_train, y_train)\n",
    "\n",
    "# print best parameter after tuning\n",
    "print(grid.best_params_)\n",
    "\n",
    "\n",
    "# print how our model looks after hyper-parameter tuning\n",
    "print(grid.best_estimator_)"
   ]
  },
  {
   "cell_type": "code",
   "execution_count": 13,
   "metadata": {},
   "outputs": [
    {
     "name": "stdout",
     "output_type": "stream",
     "text": [
      "              precision    recall  f1-score   support\n",
      "\n",
      "           0       0.98      0.53      0.69      3017\n",
      "           1       0.07      0.77      0.13       134\n",
      "\n",
      "    accuracy                           0.54      3151\n",
      "   macro avg       0.52      0.65      0.41      3151\n",
      "weighted avg       0.94      0.54      0.67      3151\n",
      "\n"
     ]
    }
   ],
   "source": [
    "grid_predictions = grid.predict(X_test)\n",
    "\n",
    "# print classification report\n",
    "print(classification_report(y_test, grid_predictions))"
   ]
  },
  {
   "cell_type": "markdown",
   "metadata": {},
   "source": []
  }
 ],
 "metadata": {
  "kernelspec": {
   "display_name": "Python 3",
   "language": "python",
   "name": "python3"
  },
  "language_info": {
   "codemirror_mode": {
    "name": "ipython",
    "version": 3
   },
   "file_extension": ".py",
   "mimetype": "text/x-python",
   "name": "python",
   "nbconvert_exporter": "python",
   "pygments_lexer": "ipython3",
   "version": "3.11.5"
  }
 },
 "nbformat": 4,
 "nbformat_minor": 2
}
