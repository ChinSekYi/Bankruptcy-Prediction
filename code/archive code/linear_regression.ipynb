{
 "cells": [
  {
   "cell_type": "code",
   "execution_count": 12,
   "metadata": {},
   "outputs": [],
   "source": [
    "import matplotlib.pyplot as plt\n",
    "import numpy as np\n",
    "import pandas as pd\n",
    "import seaborn as sns\n",
    "from scipy.io import arff\n",
    "import data_processing as dp\n",
    "from sklearn.feature_selection import SelectKBest, f_classif\n",
    "import warnings\n",
    "from imblearn.over_sampling import SMOTE\n",
    "from sklearn.metrics import accuracy_score, precision_score, recall_score, f1_score\n",
    "\n",
    "warnings.filterwarnings(\"ignore\")\n",
    "\n",
    "data = arff.loadarff(\"../data/3year.arff\")\n",
    "df = pd.DataFrame(data[0])\n",
    "df_origin = df.copy()"
   ]
  },
  {
   "cell_type": "code",
   "execution_count": 13,
   "metadata": {},
   "outputs": [
    {
     "name": "stdout",
     "output_type": "stream",
     "text": [
      "X_train.shape: (13978, 25)\n",
      "y_train.shape: (13978, 1)\n"
     ]
    }
   ],
   "source": [
    "k_features = 25\n",
    "train_test_dataset = dp.pre_process(df)  # with SMOTE\n",
    "X_train, X_test, y_train, y_test = dp.get_df_with_top_k_features(\n",
    "    k_features, *train_test_dataset\n",
    ")\n",
    "print(f\"X_train.shape: {X_train.shape}\")\n",
    "print(f\"y_train.shape: {y_train.shape}\")"
   ]
  },
  {
   "cell_type": "code",
   "execution_count": 14,
   "metadata": {},
   "outputs": [
    {
     "name": "stdout",
     "output_type": "stream",
     "text": [
      "<statsmodels.regression.linear_model.RegressionResultsWrapper object at 0x1349e2fd0>\n",
      "Number of attributes that are not significant: 14 / 25\n",
      "MSE: 0.2500178865278672\n"
     ]
    }
   ],
   "source": [
    "# Linear regression - test significance\n",
    "import statsmodels.api as sm\n",
    "\n",
    "\n",
    "def linear_regression_model(X_train, y_train):\n",
    "    # Reset indices to ensure alignment\n",
    "    X_train.reset_index(drop=True, inplace=True)\n",
    "    y_train.reset_index(drop=True, inplace=True)\n",
    "\n",
    "    # Add constant column to the features\n",
    "    x_features = sm.add_constant(X_train)\n",
    "\n",
    "    # Fit OLS model\n",
    "    ols_model = sm.OLS(y_train, x_features)\n",
    "    fit_results = ols_model.fit()\n",
    "    print(fit_results)\n",
    "\n",
    "    # Extract p-values\n",
    "    p_values = fit_results.pvalues\n",
    "\n",
    "    # Count the number of features that has p-value > 0.05\n",
    "    count_greater_than_005 = np.sum(p_values > 0.05)\n",
    "\n",
    "    # Evaluation\n",
    "    MSE = fit_results.mse_total\n",
    "    print(\n",
    "        f\"Number of attributes that are not significant: {count_greater_than_005} / {len(X_train.columns)}\"\n",
    "    )\n",
    "    print(f\"MSE: {MSE}\")\n",
    "\n",
    "    return\n",
    "\n",
    "\n",
    "linear_regression_trained_model = linear_regression_model(X_train, y_train)"
   ]
  },
  {
   "cell_type": "code",
   "execution_count": 15,
   "metadata": {},
   "outputs": [],
   "source": [
    "# Not a good way to categorise binary output based on continous output\n",
    "# thus omit linear regression\n",
    "\n",
    "\n",
    "def predict_test_data(linear_regression_trained_model, X_test):\n",
    "    X_test_with_constant = sm.add_constant(X_test)\n",
    "\n",
    "    predictions = linear_regression_trained_model.predict(X_test_with_constant)\n",
    "    return predictions\n",
    "\n",
    "\n",
    "# outcome = predict_test_data(linear_regression_trained_model, X_test)\n",
    "# print(f\"Predicted outcome:\\n{outcome[:5]}\")\n",
    "\n",
    "# Count the number of values less than 0.5\n",
    "# count_less_than_05 = np.sum(outcome < 0.5)\n",
    "\n",
    "# Count the number of values greater than or equal to 0.5\n",
    "# count_greater_than_or_equal_05 = np.sum(outcome >= 0.5)\n",
    "# discrete_outcome = outcome.apply(lambda x: 0 if x < 0.05 else x)\n",
    "\n",
    "# print(\"\\nNumber of values < 0.5:\", count_less_than_05)\n",
    "# print(\"Number of values >= 0.5:\", count_greater_than_or_equal_05)\n",
    "# print(f\"Total: {count_less_than_05 + count_greater_than_or_equal_05}\")"
   ]
  },
  {
   "cell_type": "code",
   "execution_count": 16,
   "metadata": {},
   "outputs": [],
   "source": [
    "def linear_reg_accuracy(y_true, y_pred, tolerance=0):\n",
    "    \"\"\"\n",
    "    Calculate the accuracy of predictions within a tolerance range.\n",
    "\n",
    "    Parameters:\n",
    "    - y_true: Array-like, true target values.\n",
    "    - y_pred: Array-like, predicted target values.\n",
    "    - tolerance: float, the tolerance range around the true values.\n",
    "\n",
    "    Returns:\n",
    "    - acc: float, the accuracy of predictions within the tolerance range.\n",
    "    \"\"\"\n",
    "    # Calculate the absolute errors\n",
    "    errors = abs(y_pred - y_true)\n",
    "\n",
    "    # Count the number of predictions within the tolerance range\n",
    "    within_tolerance = sum(errors <= tolerance)\n",
    "\n",
    "    # Calculate the total number of predictions\n",
    "    total_predictions = len(y_true)\n",
    "\n",
    "    # Calculate accuracy\n",
    "    acc = within_tolerance / total_predictions\n",
    "\n",
    "    return acc\n",
    "\n",
    "\n",
    "# Calculate accuracy using the function\n",
    "# acc = linear_reg_accuracy(y_test.values.flatten(), discrete_outcome)\n",
    "\n",
    "# print(\"Accuracy:\", acc)"
   ]
  },
  {
   "cell_type": "markdown",
   "metadata": {},
   "source": [
    "Try logistic regression"
   ]
  },
  {
   "cell_type": "code",
   "execution_count": 17,
   "metadata": {},
   "outputs": [
    {
     "name": "stdout",
     "output_type": "stream",
     "text": [
      "Optimization terminated successfully.\n",
      "         Current function value: 0.629073\n",
      "         Iterations 20\n",
      "                           Logit Regression Results                           \n",
      "==============================================================================\n",
      "Dep. Variable:                      0   No. Observations:                13978\n",
      "Model:                          Logit   Df Residuals:                    13952\n",
      "Method:                           MLE   Df Model:                           25\n",
      "Date:                Sat, 06 Apr 2024   Pseudo R-squ.:                 0.09244\n",
      "Time:                        23:35:54   Log-Likelihood:                -8793.2\n",
      "converged:                       True   LL-Null:                       -9688.8\n",
      "Covariance Type:            nonrobust   LLR p-value:                     0.000\n",
      "==============================================================================\n",
      "                 coef    std err          z      P>|z|      [0.025      0.975]\n",
      "------------------------------------------------------------------------------\n",
      "const         38.6336     28.771      1.343      0.179     -17.756      95.023\n",
      "Attr29        -0.7610      0.251     -3.027      0.002      -1.254      -0.268\n",
      "Attr63      -849.9838     43.174    -19.687      0.000    -934.603    -765.364\n",
      "Attr24      -178.2876     17.042    -10.462      0.000    -211.690    -144.886\n",
      "Attr48         4.2552      6.779      0.628      0.530      -9.030      17.541\n",
      "Attr33      1103.8899     60.469     18.255      0.000     985.372    1222.408\n",
      "Attr55        -7.1698      2.820     -2.542      0.011     -12.698      -1.642\n",
      "Attr36        19.0798      2.481      7.691      0.000      14.218      23.942\n",
      "Attr51       -35.0366      4.491     -7.802      0.000     -43.839     -26.235\n",
      "Attr61       -29.1152      5.957     -4.888      0.000     -40.790     -17.440\n",
      "Attr59        29.8395     15.872      1.880      0.060      -1.268      60.947\n",
      "Attr54         0.5276      3.531      0.149      0.881      -6.392       7.447\n",
      "Attr27       -20.3535     17.678     -1.151      0.250     -55.002      14.295\n",
      "Attr26      -244.0965     31.159     -7.834      0.000    -305.167    -183.026\n",
      "Attr50      -469.1648    113.473     -4.135      0.000    -691.569    -246.761\n",
      "Attr44      -121.5601     42.201     -2.880      0.004    -204.273     -38.847\n",
      "Attr58      -261.5631    201.523     -1.298      0.194    -656.541     133.415\n",
      "Attr62        17.7374      6.569      2.700      0.007       4.862      30.613\n",
      "Attr49         4.7834      6.303      0.759      0.448      -7.569      17.136\n",
      "Attr15        -4.9471      4.749     -1.042      0.298     -14.256       4.361\n",
      "Attr5         22.4328     18.744      1.197      0.231     -14.305      59.171\n",
      "Attr60      -114.5646     85.291     -1.343      0.179    -281.732      52.603\n",
      "Attr21      -454.1478    278.115     -1.633      0.102    -999.242      90.947\n",
      "Attr64        -3.4570      2.743     -1.260      0.208      -8.833       1.919\n",
      "Attr52       -10.6278     35.121     -0.303      0.762     -79.464      58.208\n",
      "Attr45       -24.4275     53.478     -0.457      0.648    -129.243      80.388\n",
      "==============================================================================\n"
     ]
    }
   ],
   "source": [
    "# test logistic regression from stats package\n",
    "# iteration error\n",
    "def logistic_regression_model(X_train, y_train):\n",
    "    # Reset indices to ensure alignment\n",
    "    X_train.reset_index(drop=True, inplace=True)\n",
    "    y_train.reset_index(drop=True, inplace=True)\n",
    "\n",
    "    # Add constant column to the features\n",
    "    X_train_with_constant = sm.add_constant(X_train)\n",
    "\n",
    "    # Fit logistic regression model\n",
    "    logit_model = sm.Logit(y_train, X_train_with_constant)\n",
    "    fit_results = logit_model.fit(max_iter=100, method=\"newton\")\n",
    "\n",
    "    # Print summary of the model\n",
    "    print(fit_results.summary())\n",
    "\n",
    "    return fit_results\n",
    "\n",
    "\n",
    "logistic_trained_model = logistic_regression_model(X_train, y_train)"
   ]
  }
 ],
 "metadata": {
  "kernelspec": {
   "display_name": "Python 3",
   "language": "python",
   "name": "python3"
  },
  "language_info": {
   "codemirror_mode": {
    "name": "ipython",
    "version": 3
   },
   "file_extension": ".py",
   "mimetype": "text/x-python",
   "name": "python",
   "nbconvert_exporter": "python",
   "pygments_lexer": "ipython3",
   "version": "3.11.5"
  }
 },
 "nbformat": 4,
 "nbformat_minor": 2
}
