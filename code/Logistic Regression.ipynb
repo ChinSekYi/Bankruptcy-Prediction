{
 "cells": [
  {
   "cell_type": "code",
   "execution_count": 1,
   "metadata": {},
   "outputs": [],
   "source": [
    "import numpy as np\n",
    "import pandas as pd\n",
    "\n",
    "import matplotlib.pyplot as plt\n",
    "import seaborn as sns\n",
    "\n",
    "from scipy.io import arff\n",
    "import data_processing as dp\n",
    "\n",
    "import sklearn\n",
    "from sklearn.linear_model import LogisticRegression\n",
    "from sklearn.metrics import classification_report, confusion_matrix"
   ]
  },
  {
   "cell_type": "code",
   "execution_count": 2,
   "metadata": {},
   "outputs": [],
   "source": [
    "data3 = arff.loadarff(\"../data/3year.arff\")\n",
    "df3 = pd.DataFrame(data3[0])\n",
    "data5 = arff.loadarff(\"../data/5year.arff\")\n",
    "df5 = pd.DataFrame(data5[0])"
   ]
  },
  {
   "cell_type": "code",
   "execution_count": 3,
   "metadata": {},
   "outputs": [],
   "source": [
    "X_train, X_test, y_train, y_test = dp.get_train_test(df3)\n",
    "# X_train, X_test, y_train, y_test = dp.pre_process(df3)"
   ]
  },
  {
   "cell_type": "code",
   "execution_count": 4,
   "metadata": {},
   "outputs": [
    {
     "name": "stderr",
     "output_type": "stream",
     "text": [
      "c:\\Users\\65835\\AppData\\Local\\Programs\\Python\\Python39\\lib\\site-packages\\sklearn\\utils\\validation.py:1229: DataConversionWarning: A column-vector y was passed when a 1d array was expected. Please change the shape of y to (n_samples, ), for example using ravel().\n",
      "  y = column_or_1d(y, warn=True)\n"
     ]
    },
    {
     "data": {
      "text/plain": [
       "array([[2001,    0],\n",
       "       [   0,  100]], dtype=int64)"
      ]
     },
     "execution_count": 4,
     "metadata": {},
     "output_type": "execute_result"
    }
   ],
   "source": [
    "model = LogisticRegression(solver='liblinear', random_state=0)\n",
    "model.fit(X_train, y_train)\n",
    "y_pred = model.predict(X_test)\n",
    "confusion_matrix(y_test, y_pred)"
   ]
  },
  {
   "cell_type": "code",
   "execution_count": 5,
   "metadata": {},
   "outputs": [],
   "source": [
    "from sklearn.preprocessing import MinMaxScaler\n",
    "from imblearn.over_sampling import SMOTE\n",
    "from sklearn.model_selection import train_test_split"
   ]
  },
  {
   "cell_type": "code",
   "execution_count": 12,
   "metadata": {},
   "outputs": [],
   "source": [
    "def as_discrete(col):\n",
    "    n = len(col)\n",
    "    new_col = [0] * n\n",
    "    for i in range(n):\n",
    "        if col[i] == b\"0\":\n",
    "            new_col[i] = 0\n",
    "        else:\n",
    "            new_col[i] = 1\n",
    "    return pd.DataFrame(new_col)\n",
    "\n",
    "def get_Xy(df):\n",
    "    X = df.iloc[:, 0 : len(df) - 1]\n",
    "    y = as_discrete(df.iloc[:, -1])\n",
    "    return X, y\n",
    "\n",
    "def med_impute(df, y):\n",
    "    thd1 = df.shape[0] * 0.4\n",
    "    cols = df.columns[df.isnull().sum() < thd1]\n",
    "    df = df[cols]\n",
    "\n",
    "    thd2 = df.shape[1] * 0.5\n",
    "    y = y[df.isnull().sum(axis=1) <= thd2]\n",
    "    df = df[df.isnull().sum(axis=1) <= thd2]\n",
    "\n",
    "    for column in df.columns:\n",
    "        df[column] = df[column].fillna(df[column].median())\n",
    "    return df, y\n",
    "\n",
    "def normalise(df):\n",
    "    scaler = MinMaxScaler()\n",
    "    df = pd.DataFrame(scaler.fit_transform(df), columns=df.columns)\n",
    "    return df\n",
    "\n",
    "def drop_high_corr(df, threshold=0.7):\n",
    "\n",
    "    correlation_matrix = df.corr()\n",
    "    high_cor = []\n",
    "    dropped_features = []\n",
    "\n",
    "    for i in range(len(correlation_matrix.columns)):\n",
    "        for j in range(i):\n",
    "            if abs(correlation_matrix.iloc[i, j]) > threshold:\n",
    "                if correlation_matrix.columns[j] != correlation_matrix.columns[i]:\n",
    "                    high_cor.append([\n",
    "                        correlation_matrix.columns[i],\n",
    "                        correlation_matrix.columns[j],\n",
    "                        correlation_matrix.iloc[i, j]\n",
    "                    ])\n",
    "\n",
    "    for pair in high_cor:\n",
    "        feature1, feature2, correlation = pair\n",
    "\n",
    "        if feature1 not in dropped_features and feature2 not in dropped_features:\n",
    "            if feature2 in df.columns:\n",
    "                df.drop(feature2, axis=1, inplace=True)\n",
    "                dropped_features.append(feature2)\n",
    "            else:\n",
    "                print(f\"Feature '{feature2}' not found in the DataFrame.\")\n",
    "    return df\n",
    "\n",
    "def pre_process(df):\n",
    "    X, y = get_Xy(df)\n",
    "    X, y = med_impute(X, y)   \n",
    "    X = normalise(X)\n",
    "    X = drop_high_corr(X, threshold=0.7)\n",
    "    X_train, X_test, y_train, y_test = train_test_split(X, y, test_size=0.3, random_state=1000)\n",
    "    smote = SMOTE(random_state=0)\n",
    "    X_smote, y_smote = smote.fit_resample(X_train, y_train)\n",
    "   \n",
    "    return X_smote, X_test, y_smote, y_test"
   ]
  },
  {
   "cell_type": "code",
   "execution_count": 13,
   "metadata": {},
   "outputs": [
    {
     "name": "stderr",
     "output_type": "stream",
     "text": [
      "c:\\Users\\65835\\AppData\\Local\\Programs\\Python\\Python39\\lib\\site-packages\\sklearn\\utils\\validation.py:1229: DataConversionWarning: A column-vector y was passed when a 1d array was expected. Please change the shape of y to (n_samples, ), for example using ravel().\n",
      "  y = column_or_1d(y, warn=True)\n"
     ]
    },
    {
     "data": {
      "text/plain": [
       "array([[3017,    0],\n",
       "       [   0,  134]], dtype=int64)"
      ]
     },
     "execution_count": 13,
     "metadata": {},
     "output_type": "execute_result"
    }
   ],
   "source": [
    "X_train, X_test, y_train, y_test = pre_process(df3)\n",
    "model = LogisticRegression(solver='liblinear', random_state=0)\n",
    "model.fit(X_train, y_train)\n",
    "y_pred = model.predict(X_test)\n",
    "confusion_matrix(y_test, y_pred)"
   ]
  }
 ],
 "metadata": {
  "kernelspec": {
   "display_name": "Python 3 (ipykernel)",
   "language": "python",
   "name": "python3"
  },
  "language_info": {
   "codemirror_mode": {
    "name": "ipython",
    "version": 3
   },
   "file_extension": ".py",
   "mimetype": "text/x-python",
   "name": "python",
   "nbconvert_exporter": "python",
   "pygments_lexer": "ipython3",
   "version": "3.11.4"
  }
 },
 "nbformat": 4,
 "nbformat_minor": 4
}
